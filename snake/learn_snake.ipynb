{
 "cells": [
  {
   "attachments": {},
   "cell_type": "markdown",
   "metadata": {},
   "source": [
    "To use the prior reinforcement learning modules made on this handmade game of snake I need to make my own versions of:\n",
    "    \n",
    "    - `initialise_episode`\n",
    "    - `step_episode`"
   ]
  },
  {
   "cell_type": "code",
   "execution_count": null,
   "metadata": {},
   "outputs": [],
   "source": [
    "# tests\n",
    "import sys\n",
    "sys.path.append('..')\n",
    "\n",
    "\n",
    "import general_utils, nets, nets_utils, accessory"
   ]
  },
  {
   "cell_type": "code",
   "execution_count": null,
   "metadata": {},
   "outputs": [],
   "source": [
    "runs, net = nets.train_actor_critic(env_name='snake', n_runs=3, network_layers=[12,32,32,32,4],\n",
    "                                    update_when=20, learning_rate=0.005, record=False,\n",
    "                                    max_episode_steps=500, discount=0.99, n_episodes=600, episode_print_thresh=1, lengths_to_consider=1)"
   ]
  },
  {
   "cell_type": "markdown",
   "metadata": {},
   "source": []
  },
  {
   "cell_type": "code",
   "execution_count": null,
   "metadata": {},
   "outputs": [],
   "source": []
  }
 ],
 "metadata": {
  "kernelspec": {
   "display_name": "lab3_venv",
   "language": "python",
   "name": "python3"
  },
  "language_info": {
   "codemirror_mode": {
    "name": "ipython",
    "version": 3
   },
   "file_extension": ".py",
   "mimetype": "text/x-python",
   "name": "python",
   "nbconvert_exporter": "python",
   "pygments_lexer": "ipython3",
   "version": "3.10.8 (main, Oct 13 2022, 10:17:43) [Clang 14.0.0 (clang-1400.0.29.102)]"
  },
  "orig_nbformat": 4,
  "vscode": {
   "interpreter": {
    "hash": "6db61543b22314f774e65a0ba334c37f2a83cf724013db55a19c061cb3464ee2"
   }
  }
 },
 "nbformat": 4,
 "nbformat_minor": 2
}
