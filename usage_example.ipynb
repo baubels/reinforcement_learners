{
 "cells": [
  {
   "cell_type": "code",
   "execution_count": 1,
   "metadata": {},
   "outputs": [
    {
     "name": "stderr",
     "output_type": "stream",
     "text": [
      "/Users/dk/project/rl/lab3_venv/lib/python3.10/site-packages/tqdm/auto.py:22: TqdmWarning: IProgress not found. Please update jupyter and ipywidgets. See https://ipywidgets.readthedocs.io/en/stable/user_install.html\n",
      "  from .autonotebook import tqdm as notebook_tqdm\n"
     ]
    }
   ],
   "source": [
    "import general_utils, nets, nets_utils, accessory\n",
    "from gyms.cartpole import CartPoleEnv"
   ]
  },
  {
   "cell_type": "code",
   "execution_count": 2,
   "metadata": {},
   "outputs": [
    {
     "name": "stdout",
     "output_type": "stream",
     "text": [
      "TRAINING!!! A DQN agent on the CartPole environment over 1 runs each with 300 episodes.\n",
      "Episodes are generated with an eps-greedy policy with eps = 1.0, decaying at eps*0.99^episode_count\n",
      "Each policy and target DQN net has feedforward layer widths: [4, 32, 2].\n",
      "\n",
      "Backpropogation is done with SGD with batchsize 64 sampled over a buffer of size 100000 and updating policy network every 1 episodes.\n",
      "Moviepy - Building video /Users/dk/project/rl/lib/episode_recorderrun_0/episode0.mp4.\n",
      "Moviepy - Writing video /Users/dk/project/rl/lib/episode_recorderrun_0/episode0.mp4\n",
      "\n"
     ]
    },
    {
     "name": "stderr",
     "output_type": "stream",
     "text": [
      "                                                             \r"
     ]
    },
    {
     "name": "stdout",
     "output_type": "stream",
     "text": [
      "Moviepy - Done !\n",
      "Moviepy - video ready /Users/dk/project/rl/lib/episode_recorderrun_0/episode0.mp4\n",
      "Moviepy - Building video /Users/dk/project/rl/lib/episode_recorderrun_0/episode1.mp4.\n",
      "Moviepy - Writing video /Users/dk/project/rl/lib/episode_recorderrun_0/episode1.mp4\n",
      "\n"
     ]
    },
    {
     "name": "stderr",
     "output_type": "stream",
     "text": [
      "                                                             \r"
     ]
    },
    {
     "name": "stdout",
     "output_type": "stream",
     "text": [
      "Moviepy - Done !\n",
      "Moviepy - video ready /Users/dk/project/rl/lib/episode_recorderrun_0/episode1.mp4\n",
      "Moviepy - Building video /Users/dk/project/rl/lib/episode_recorderrun_0/episode2.mp4.\n",
      "Moviepy - Writing video /Users/dk/project/rl/lib/episode_recorderrun_0/episode2.mp4\n",
      "\n"
     ]
    },
    {
     "name": "stderr",
     "output_type": "stream",
     "text": [
      "                                                             \r"
     ]
    },
    {
     "name": "stdout",
     "output_type": "stream",
     "text": [
      "Moviepy - Done !\n",
      "Moviepy - video ready /Users/dk/project/rl/lib/episode_recorderrun_0/episode2.mp4\n",
      "Moviepy - Building video /Users/dk/project/rl/lib/episode_recorderrun_0/episode3.mp4.\n",
      "Moviepy - Writing video /Users/dk/project/rl/lib/episode_recorderrun_0/episode3.mp4\n",
      "\n"
     ]
    },
    {
     "name": "stderr",
     "output_type": "stream",
     "text": [
      "                                                             \r"
     ]
    },
    {
     "name": "stdout",
     "output_type": "stream",
     "text": [
      "Moviepy - Done !\n",
      "Moviepy - video ready /Users/dk/project/rl/lib/episode_recorderrun_0/episode3.mp4\n",
      "Moviepy - Building video /Users/dk/project/rl/lib/episode_recorderrun_0/episode4.mp4.\n",
      "Moviepy - Writing video /Users/dk/project/rl/lib/episode_recorderrun_0/episode4.mp4\n",
      "\n"
     ]
    },
    {
     "name": "stderr",
     "output_type": "stream",
     "text": [
      "                                                             \r"
     ]
    },
    {
     "name": "stdout",
     "output_type": "stream",
     "text": [
      "Moviepy - Done !\n",
      "Moviepy - video ready /Users/dk/project/rl/lib/episode_recorderrun_0/episode4.mp4\n",
      "Moviepy - Building video /Users/dk/project/rl/lib/episode_recorderrun_0/episode5.mp4.\n",
      "Moviepy - Writing video /Users/dk/project/rl/lib/episode_recorderrun_0/episode5.mp4\n",
      "\n"
     ]
    },
    {
     "name": "stderr",
     "output_type": "stream",
     "text": [
      "                                                   \r"
     ]
    },
    {
     "name": "stdout",
     "output_type": "stream",
     "text": [
      "Moviepy - Done !\n",
      "Moviepy - video ready /Users/dk/project/rl/lib/episode_recorderrun_0/episode5.mp4\n",
      "Moviepy - Building video /Users/dk/project/rl/lib/episode_recorderrun_0/episode6.mp4.\n",
      "Moviepy - Writing video /Users/dk/project/rl/lib/episode_recorderrun_0/episode6.mp4\n",
      "\n"
     ]
    },
    {
     "name": "stderr",
     "output_type": "stream",
     "text": [
      "                                                             \r"
     ]
    },
    {
     "name": "stdout",
     "output_type": "stream",
     "text": [
      "Moviepy - Done !\n",
      "Moviepy - video ready /Users/dk/project/rl/lib/episode_recorderrun_0/episode6.mp4\n",
      "Moviepy - Building video /Users/dk/project/rl/lib/episode_recorderrun_0/episode7.mp4.\n",
      "Moviepy - Writing video /Users/dk/project/rl/lib/episode_recorderrun_0/episode7.mp4\n",
      "\n"
     ]
    },
    {
     "name": "stderr",
     "output_type": "stream",
     "text": [
      "                                                             \r"
     ]
    },
    {
     "name": "stdout",
     "output_type": "stream",
     "text": [
      "Moviepy - Done !\n",
      "Moviepy - video ready /Users/dk/project/rl/lib/episode_recorderrun_0/episode7.mp4\n",
      "Moviepy - Building video /Users/dk/project/rl/lib/episode_recorderrun_0/episode8.mp4.\n",
      "Moviepy - Writing video /Users/dk/project/rl/lib/episode_recorderrun_0/episode8.mp4\n",
      "\n"
     ]
    },
    {
     "name": "stderr",
     "output_type": "stream",
     "text": [
      "                                                             \r"
     ]
    },
    {
     "name": "stdout",
     "output_type": "stream",
     "text": [
      "Moviepy - Done !\n",
      "Moviepy - video ready /Users/dk/project/rl/lib/episode_recorderrun_0/episode8.mp4\n",
      "Moviepy - Building video /Users/dk/project/rl/lib/episode_recorderrun_0/episode9.mp4.\n",
      "Moviepy - Writing video /Users/dk/project/rl/lib/episode_recorderrun_0/episode9.mp4\n",
      "\n"
     ]
    },
    {
     "name": "stderr",
     "output_type": "stream",
     "text": [
      "                                                             \r"
     ]
    },
    {
     "name": "stdout",
     "output_type": "stream",
     "text": [
      "Moviepy - Done !\n",
      "Moviepy - video ready /Users/dk/project/rl/lib/episode_recorderrun_0/episode9.mp4\n",
      "Moviepy - Building video /Users/dk/project/rl/lib/episode_recorderrun_0/episode10.mp4.\n",
      "Moviepy - Writing video /Users/dk/project/rl/lib/episode_recorderrun_0/episode10.mp4\n",
      "\n"
     ]
    },
    {
     "name": "stderr",
     "output_type": "stream",
     "text": [
      "                                                             \r"
     ]
    },
    {
     "name": "stdout",
     "output_type": "stream",
     "text": [
      "Moviepy - Done !\n",
      "Moviepy - video ready /Users/dk/project/rl/lib/episode_recorderrun_0/episode10.mp4\n",
      "Moviepy - Building video /Users/dk/project/rl/lib/episode_recorderrun_0/episode11.mp4.\n",
      "Moviepy - Writing video /Users/dk/project/rl/lib/episode_recorderrun_0/episode11.mp4\n",
      "\n"
     ]
    },
    {
     "name": "stderr",
     "output_type": "stream",
     "text": [
      "                                                             \r"
     ]
    },
    {
     "name": "stdout",
     "output_type": "stream",
     "text": [
      "Moviepy - Done !\n",
      "Moviepy - video ready /Users/dk/project/rl/lib/episode_recorderrun_0/episode11.mp4\n",
      "Moviepy - Building video /Users/dk/project/rl/lib/episode_recorderrun_0/episode12.mp4.\n",
      "Moviepy - Writing video /Users/dk/project/rl/lib/episode_recorderrun_0/episode12.mp4\n",
      "\n"
     ]
    },
    {
     "name": "stderr",
     "output_type": "stream",
     "text": [
      "                                                             \r"
     ]
    },
    {
     "name": "stdout",
     "output_type": "stream",
     "text": [
      "Moviepy - Done !\n",
      "Moviepy - video ready /Users/dk/project/rl/lib/episode_recorderrun_0/episode12.mp4\n",
      "Moviepy - Building video /Users/dk/project/rl/lib/episode_recorderrun_0/episode13.mp4.\n",
      "Moviepy - Writing video /Users/dk/project/rl/lib/episode_recorderrun_0/episode13.mp4\n",
      "\n"
     ]
    },
    {
     "name": "stderr",
     "output_type": "stream",
     "text": [
      "                                                             \r"
     ]
    },
    {
     "name": "stdout",
     "output_type": "stream",
     "text": [
      "Moviepy - Done !\n",
      "Moviepy - video ready /Users/dk/project/rl/lib/episode_recorderrun_0/episode13.mp4\n",
      "Moviepy - Building video /Users/dk/project/rl/lib/episode_recorderrun_0/episode14.mp4.\n",
      "Moviepy - Writing video /Users/dk/project/rl/lib/episode_recorderrun_0/episode14.mp4\n",
      "\n"
     ]
    },
    {
     "name": "stderr",
     "output_type": "stream",
     "text": [
      "                                                   \r"
     ]
    },
    {
     "name": "stdout",
     "output_type": "stream",
     "text": [
      "Moviepy - Done !\n",
      "Moviepy - video ready /Users/dk/project/rl/lib/episode_recorderrun_0/episode14.mp4\n",
      "Moviepy - Building video /Users/dk/project/rl/lib/episode_recorderrun_0/episode15.mp4.\n",
      "Moviepy - Writing video /Users/dk/project/rl/lib/episode_recorderrun_0/episode15.mp4\n",
      "\n"
     ]
    },
    {
     "name": "stderr",
     "output_type": "stream",
     "text": [
      "                                                             \r"
     ]
    },
    {
     "name": "stdout",
     "output_type": "stream",
     "text": [
      "Moviepy - Done !\n",
      "Moviepy - video ready /Users/dk/project/rl/lib/episode_recorderrun_0/episode15.mp4\n",
      "Moviepy - Building video /Users/dk/project/rl/lib/episode_recorderrun_0/episode16.mp4.\n",
      "Moviepy - Writing video /Users/dk/project/rl/lib/episode_recorderrun_0/episode16.mp4\n",
      "\n"
     ]
    },
    {
     "name": "stderr",
     "output_type": "stream",
     "text": [
      "                                                             \r"
     ]
    },
    {
     "name": "stdout",
     "output_type": "stream",
     "text": [
      "Moviepy - Done !\n",
      "Moviepy - video ready /Users/dk/project/rl/lib/episode_recorderrun_0/episode16.mp4\n",
      "Moviepy - Building video /Users/dk/project/rl/lib/episode_recorderrun_0/episode17.mp4.\n",
      "Moviepy - Writing video /Users/dk/project/rl/lib/episode_recorderrun_0/episode17.mp4\n",
      "\n"
     ]
    },
    {
     "name": "stderr",
     "output_type": "stream",
     "text": [
      "                                                             \r"
     ]
    },
    {
     "name": "stdout",
     "output_type": "stream",
     "text": [
      "Moviepy - Done !\n",
      "Moviepy - video ready /Users/dk/project/rl/lib/episode_recorderrun_0/episode17.mp4\n",
      "Moviepy - Building video /Users/dk/project/rl/lib/episode_recorderrun_0/episode18.mp4.\n",
      "Moviepy - Writing video /Users/dk/project/rl/lib/episode_recorderrun_0/episode18.mp4\n",
      "\n"
     ]
    },
    {
     "name": "stderr",
     "output_type": "stream",
     "text": [
      "                                                             \r"
     ]
    },
    {
     "name": "stdout",
     "output_type": "stream",
     "text": [
      "Moviepy - Done !\n",
      "Moviepy - video ready /Users/dk/project/rl/lib/episode_recorderrun_0/episode18.mp4\n",
      "Moviepy - Building video /Users/dk/project/rl/lib/episode_recorderrun_0/episode19.mp4.\n",
      "Moviepy - Writing video /Users/dk/project/rl/lib/episode_recorderrun_0/episode19.mp4\n",
      "\n"
     ]
    },
    {
     "name": "stderr",
     "output_type": "stream",
     "text": [
      "                                                   \r"
     ]
    },
    {
     "name": "stdout",
     "output_type": "stream",
     "text": [
      "Moviepy - Done !\n",
      "Moviepy - video ready /Users/dk/project/rl/lib/episode_recorderrun_0/episode19.mp4\n",
      "Moviepy - Building video /Users/dk/project/rl/lib/episode_recorderrun_0/episode20.mp4.\n",
      "Moviepy - Writing video /Users/dk/project/rl/lib/episode_recorderrun_0/episode20.mp4\n",
      "\n"
     ]
    },
    {
     "name": "stderr",
     "output_type": "stream",
     "text": [
      "                                                   \r"
     ]
    },
    {
     "name": "stdout",
     "output_type": "stream",
     "text": [
      "Moviepy - Done !\n",
      "Moviepy - video ready /Users/dk/project/rl/lib/episode_recorderrun_0/episode20.mp4\n",
      "Moviepy - Building video /Users/dk/project/rl/lib/episode_recorderrun_0/episode21.mp4.\n",
      "Moviepy - Writing video /Users/dk/project/rl/lib/episode_recorderrun_0/episode21.mp4\n",
      "\n"
     ]
    },
    {
     "name": "stderr",
     "output_type": "stream",
     "text": [
      "                                                   \r"
     ]
    },
    {
     "name": "stdout",
     "output_type": "stream",
     "text": [
      "Moviepy - Done !\n",
      "Moviepy - video ready /Users/dk/project/rl/lib/episode_recorderrun_0/episode21.mp4\n",
      "Moviepy - Building video /Users/dk/project/rl/lib/episode_recorderrun_0/episode22.mp4.\n",
      "Moviepy - Writing video /Users/dk/project/rl/lib/episode_recorderrun_0/episode22.mp4\n",
      "\n"
     ]
    },
    {
     "name": "stderr",
     "output_type": "stream",
     "text": [
      "                                                   \r"
     ]
    },
    {
     "name": "stdout",
     "output_type": "stream",
     "text": [
      "Moviepy - Done !\n",
      "Moviepy - video ready /Users/dk/project/rl/lib/episode_recorderrun_0/episode22.mp4\n",
      "Moviepy - Building video /Users/dk/project/rl/lib/episode_recorderrun_0/episode23.mp4.\n",
      "Moviepy - Writing video /Users/dk/project/rl/lib/episode_recorderrun_0/episode23.mp4\n",
      "\n"
     ]
    },
    {
     "name": "stderr",
     "output_type": "stream",
     "text": [
      "                                                             \r"
     ]
    },
    {
     "name": "stdout",
     "output_type": "stream",
     "text": [
      "Moviepy - Done !\n",
      "Moviepy - video ready /Users/dk/project/rl/lib/episode_recorderrun_0/episode23.mp4\n",
      "Moviepy - Building video /Users/dk/project/rl/lib/episode_recorderrun_0/episode24.mp4.\n",
      "Moviepy - Writing video /Users/dk/project/rl/lib/episode_recorderrun_0/episode24.mp4\n",
      "\n"
     ]
    },
    {
     "name": "stderr",
     "output_type": "stream",
     "text": [
      "                                                   \r"
     ]
    },
    {
     "name": "stdout",
     "output_type": "stream",
     "text": [
      "Moviepy - Done !\n",
      "Moviepy - video ready /Users/dk/project/rl/lib/episode_recorderrun_0/episode24.mp4\n",
      "Moviepy - Building video /Users/dk/project/rl/lib/episode_recorderrun_0/episode25.mp4.\n",
      "Moviepy - Writing video /Users/dk/project/rl/lib/episode_recorderrun_0/episode25.mp4\n",
      "\n"
     ]
    },
    {
     "name": "stderr",
     "output_type": "stream",
     "text": [
      "                                                   \r"
     ]
    },
    {
     "name": "stdout",
     "output_type": "stream",
     "text": [
      "Moviepy - Done !\n",
      "Moviepy - video ready /Users/dk/project/rl/lib/episode_recorderrun_0/episode25.mp4\n",
      "Moviepy - Building video /Users/dk/project/rl/lib/episode_recorderrun_0/episode26.mp4.\n",
      "Moviepy - Writing video /Users/dk/project/rl/lib/episode_recorderrun_0/episode26.mp4\n",
      "\n"
     ]
    },
    {
     "name": "stderr",
     "output_type": "stream",
     "text": [
      "                                                             \r"
     ]
    },
    {
     "name": "stdout",
     "output_type": "stream",
     "text": [
      "Moviepy - Done !\n",
      "Moviepy - video ready /Users/dk/project/rl/lib/episode_recorderrun_0/episode26.mp4\n",
      "Moviepy - Building video /Users/dk/project/rl/lib/episode_recorderrun_0/episode27.mp4.\n",
      "Moviepy - Writing video /Users/dk/project/rl/lib/episode_recorderrun_0/episode27.mp4\n",
      "\n"
     ]
    },
    {
     "name": "stderr",
     "output_type": "stream",
     "text": [
      "                                                   \r"
     ]
    },
    {
     "name": "stdout",
     "output_type": "stream",
     "text": [
      "Moviepy - Done !\n",
      "Moviepy - video ready /Users/dk/project/rl/lib/episode_recorderrun_0/episode27.mp4\n",
      "Moviepy - Building video /Users/dk/project/rl/lib/episode_recorderrun_0/episode28.mp4.\n",
      "Moviepy - Writing video /Users/dk/project/rl/lib/episode_recorderrun_0/episode28.mp4\n",
      "\n"
     ]
    },
    {
     "name": "stderr",
     "output_type": "stream",
     "text": [
      "                                                             \r"
     ]
    },
    {
     "name": "stdout",
     "output_type": "stream",
     "text": [
      "Moviepy - Done !\n",
      "Moviepy - video ready /Users/dk/project/rl/lib/episode_recorderrun_0/episode28.mp4\n",
      "Moviepy - Building video /Users/dk/project/rl/lib/episode_recorderrun_0/episode29.mp4.\n",
      "Moviepy - Writing video /Users/dk/project/rl/lib/episode_recorderrun_0/episode29.mp4\n",
      "\n"
     ]
    },
    {
     "name": "stderr",
     "output_type": "stream",
     "text": [
      "                                                             \r"
     ]
    },
    {
     "name": "stdout",
     "output_type": "stream",
     "text": [
      "Moviepy - Done !\n",
      "Moviepy - video ready /Users/dk/project/rl/lib/episode_recorderrun_0/episode29.mp4\n",
      "Moviepy - Building video /Users/dk/project/rl/lib/episode_recorderrun_0/episode30.mp4.\n",
      "Moviepy - Writing video /Users/dk/project/rl/lib/episode_recorderrun_0/episode30.mp4\n",
      "\n"
     ]
    },
    {
     "name": "stderr",
     "output_type": "stream",
     "text": [
      "                                                   \r"
     ]
    },
    {
     "name": "stdout",
     "output_type": "stream",
     "text": [
      "Moviepy - Done !\n",
      "Moviepy - video ready /Users/dk/project/rl/lib/episode_recorderrun_0/episode30.mp4\n",
      "Moviepy - Building video /Users/dk/project/rl/lib/episode_recorderrun_0/episode31.mp4.\n",
      "Moviepy - Writing video /Users/dk/project/rl/lib/episode_recorderrun_0/episode31.mp4\n",
      "\n"
     ]
    },
    {
     "name": "stderr",
     "output_type": "stream",
     "text": [
      "                                                             \r"
     ]
    },
    {
     "name": "stdout",
     "output_type": "stream",
     "text": [
      "Moviepy - Done !\n",
      "Moviepy - video ready /Users/dk/project/rl/lib/episode_recorderrun_0/episode31.mp4\n",
      "Moviepy - Building video /Users/dk/project/rl/lib/episode_recorderrun_0/episode32.mp4.\n",
      "Moviepy - Writing video /Users/dk/project/rl/lib/episode_recorderrun_0/episode32.mp4\n",
      "\n"
     ]
    },
    {
     "name": "stderr",
     "output_type": "stream",
     "text": [
      "                                                             \r"
     ]
    },
    {
     "name": "stdout",
     "output_type": "stream",
     "text": [
      "Moviepy - Done !\n",
      "Moviepy - video ready /Users/dk/project/rl/lib/episode_recorderrun_0/episode32.mp4\n",
      "Moviepy - Building video /Users/dk/project/rl/lib/episode_recorderrun_0/episode33.mp4.\n",
      "Moviepy - Writing video /Users/dk/project/rl/lib/episode_recorderrun_0/episode33.mp4\n",
      "\n"
     ]
    },
    {
     "name": "stderr",
     "output_type": "stream",
     "text": [
      "                                                   \r"
     ]
    },
    {
     "name": "stdout",
     "output_type": "stream",
     "text": [
      "Moviepy - Done !\n",
      "Moviepy - video ready /Users/dk/project/rl/lib/episode_recorderrun_0/episode33.mp4\n",
      "Moviepy - Building video /Users/dk/project/rl/lib/episode_recorderrun_0/episode34.mp4.\n",
      "Moviepy - Writing video /Users/dk/project/rl/lib/episode_recorderrun_0/episode34.mp4\n",
      "\n"
     ]
    },
    {
     "name": "stderr",
     "output_type": "stream",
     "text": [
      "                                                             \r"
     ]
    },
    {
     "name": "stdout",
     "output_type": "stream",
     "text": [
      "Moviepy - Done !\n",
      "Moviepy - video ready /Users/dk/project/rl/lib/episode_recorderrun_0/episode34.mp4\n",
      "Moviepy - Building video /Users/dk/project/rl/lib/episode_recorderrun_0/episode35.mp4.\n",
      "Moviepy - Writing video /Users/dk/project/rl/lib/episode_recorderrun_0/episode35.mp4\n",
      "\n"
     ]
    },
    {
     "name": "stderr",
     "output_type": "stream",
     "text": [
      "                                                             \r"
     ]
    },
    {
     "name": "stdout",
     "output_type": "stream",
     "text": [
      "Moviepy - Done !\n",
      "Moviepy - video ready /Users/dk/project/rl/lib/episode_recorderrun_0/episode35.mp4\n",
      "Moviepy - Building video /Users/dk/project/rl/lib/episode_recorderrun_0/episode36.mp4.\n",
      "Moviepy - Writing video /Users/dk/project/rl/lib/episode_recorderrun_0/episode36.mp4\n",
      "\n"
     ]
    },
    {
     "name": "stderr",
     "output_type": "stream",
     "text": [
      "                                                             \r"
     ]
    },
    {
     "name": "stdout",
     "output_type": "stream",
     "text": [
      "Moviepy - Done !\n",
      "Moviepy - video ready /Users/dk/project/rl/lib/episode_recorderrun_0/episode36.mp4\n",
      "Moviepy - Building video /Users/dk/project/rl/lib/episode_recorderrun_0/episode37.mp4.\n",
      "Moviepy - Writing video /Users/dk/project/rl/lib/episode_recorderrun_0/episode37.mp4\n",
      "\n"
     ]
    },
    {
     "name": "stderr",
     "output_type": "stream",
     "text": [
      "                                                             \r"
     ]
    },
    {
     "name": "stdout",
     "output_type": "stream",
     "text": [
      "Moviepy - Done !\n",
      "Moviepy - video ready /Users/dk/project/rl/lib/episode_recorderrun_0/episode37.mp4\n",
      "Moviepy - Building video /Users/dk/project/rl/lib/episode_recorderrun_0/episode38.mp4.\n",
      "Moviepy - Writing video /Users/dk/project/rl/lib/episode_recorderrun_0/episode38.mp4\n",
      "\n"
     ]
    },
    {
     "name": "stderr",
     "output_type": "stream",
     "text": [
      "                                                             \r"
     ]
    },
    {
     "name": "stdout",
     "output_type": "stream",
     "text": [
      "Moviepy - Done !\n",
      "Moviepy - video ready /Users/dk/project/rl/lib/episode_recorderrun_0/episode38.mp4\n",
      "Moviepy - Building video /Users/dk/project/rl/lib/episode_recorderrun_0/episode39.mp4.\n",
      "Moviepy - Writing video /Users/dk/project/rl/lib/episode_recorderrun_0/episode39.mp4\n",
      "\n"
     ]
    },
    {
     "name": "stderr",
     "output_type": "stream",
     "text": [
      "                                                             \r"
     ]
    },
    {
     "name": "stdout",
     "output_type": "stream",
     "text": [
      "Moviepy - Done !\n",
      "Moviepy - video ready /Users/dk/project/rl/lib/episode_recorderrun_0/episode39.mp4\n",
      "Moviepy - Building video /Users/dk/project/rl/lib/episode_recorderrun_0/episode40.mp4.\n",
      "Moviepy - Writing video /Users/dk/project/rl/lib/episode_recorderrun_0/episode40.mp4\n",
      "\n"
     ]
    },
    {
     "name": "stderr",
     "output_type": "stream",
     "text": [
      "                                                             \r"
     ]
    },
    {
     "name": "stdout",
     "output_type": "stream",
     "text": [
      "Moviepy - Done !\n",
      "Moviepy - video ready /Users/dk/project/rl/lib/episode_recorderrun_0/episode40.mp4\n",
      "Moviepy - Building video /Users/dk/project/rl/lib/episode_recorderrun_0/episode41.mp4.\n",
      "Moviepy - Writing video /Users/dk/project/rl/lib/episode_recorderrun_0/episode41.mp4\n",
      "\n"
     ]
    },
    {
     "name": "stderr",
     "output_type": "stream",
     "text": [
      "                                                             \r"
     ]
    },
    {
     "name": "stdout",
     "output_type": "stream",
     "text": [
      "Moviepy - Done !\n",
      "Moviepy - video ready /Users/dk/project/rl/lib/episode_recorderrun_0/episode41.mp4\n",
      "Moviepy - Building video /Users/dk/project/rl/lib/episode_recorderrun_0/episode42.mp4.\n",
      "Moviepy - Writing video /Users/dk/project/rl/lib/episode_recorderrun_0/episode42.mp4\n",
      "\n"
     ]
    },
    {
     "name": "stderr",
     "output_type": "stream",
     "text": [
      "                                                             \r"
     ]
    },
    {
     "name": "stdout",
     "output_type": "stream",
     "text": [
      "Moviepy - Done !\n",
      "Moviepy - video ready /Users/dk/project/rl/lib/episode_recorderrun_0/episode42.mp4\n",
      "Moviepy - Building video /Users/dk/project/rl/lib/episode_recorderrun_0/episode43.mp4.\n",
      "Moviepy - Writing video /Users/dk/project/rl/lib/episode_recorderrun_0/episode43.mp4\n",
      "\n"
     ]
    },
    {
     "name": "stderr",
     "output_type": "stream",
     "text": [
      "                                                             \r"
     ]
    },
    {
     "name": "stdout",
     "output_type": "stream",
     "text": [
      "Moviepy - Done !\n",
      "Moviepy - video ready /Users/dk/project/rl/lib/episode_recorderrun_0/episode43.mp4\n",
      "Moviepy - Building video /Users/dk/project/rl/lib/episode_recorderrun_0/episode44.mp4.\n",
      "Moviepy - Writing video /Users/dk/project/rl/lib/episode_recorderrun_0/episode44.mp4\n",
      "\n"
     ]
    },
    {
     "name": "stderr",
     "output_type": "stream",
     "text": [
      "                                                             \r"
     ]
    },
    {
     "name": "stdout",
     "output_type": "stream",
     "text": [
      "Moviepy - Done !\n",
      "Moviepy - video ready /Users/dk/project/rl/lib/episode_recorderrun_0/episode44.mp4\n",
      "Moviepy - Building video /Users/dk/project/rl/lib/episode_recorderrun_0/episode45.mp4.\n",
      "Moviepy - Writing video /Users/dk/project/rl/lib/episode_recorderrun_0/episode45.mp4\n",
      "\n"
     ]
    },
    {
     "name": "stderr",
     "output_type": "stream",
     "text": [
      "                                                             \r"
     ]
    },
    {
     "name": "stdout",
     "output_type": "stream",
     "text": [
      "Moviepy - Done !\n",
      "Moviepy - video ready /Users/dk/project/rl/lib/episode_recorderrun_0/episode45.mp4\n",
      "Moviepy - Building video /Users/dk/project/rl/lib/episode_recorderrun_0/episode46.mp4.\n",
      "Moviepy - Writing video /Users/dk/project/rl/lib/episode_recorderrun_0/episode46.mp4\n",
      "\n"
     ]
    },
    {
     "name": "stderr",
     "output_type": "stream",
     "text": [
      "                                                             \r"
     ]
    },
    {
     "name": "stdout",
     "output_type": "stream",
     "text": [
      "Moviepy - Done !\n",
      "Moviepy - video ready /Users/dk/project/rl/lib/episode_recorderrun_0/episode46.mp4\n",
      "Moviepy - Building video /Users/dk/project/rl/lib/episode_recorderrun_0/episode47.mp4.\n",
      "Moviepy - Writing video /Users/dk/project/rl/lib/episode_recorderrun_0/episode47.mp4\n",
      "\n"
     ]
    },
    {
     "name": "stderr",
     "output_type": "stream",
     "text": [
      "                                                             \r"
     ]
    },
    {
     "name": "stdout",
     "output_type": "stream",
     "text": [
      "Moviepy - Done !\n",
      "Moviepy - video ready /Users/dk/project/rl/lib/episode_recorderrun_0/episode47.mp4\n",
      "Moviepy - Building video /Users/dk/project/rl/lib/episode_recorderrun_0/episode48.mp4.\n",
      "Moviepy - Writing video /Users/dk/project/rl/lib/episode_recorderrun_0/episode48.mp4\n",
      "\n"
     ]
    },
    {
     "name": "stderr",
     "output_type": "stream",
     "text": [
      "                                                             \r"
     ]
    },
    {
     "name": "stdout",
     "output_type": "stream",
     "text": [
      "Moviepy - Done !\n",
      "Moviepy - video ready /Users/dk/project/rl/lib/episode_recorderrun_0/episode48.mp4\n",
      "Moviepy - Building video /Users/dk/project/rl/lib/episode_recorderrun_0/episode49.mp4.\n",
      "Moviepy - Writing video /Users/dk/project/rl/lib/episode_recorderrun_0/episode49.mp4\n",
      "\n"
     ]
    },
    {
     "name": "stderr",
     "output_type": "stream",
     "text": [
      "                                                             \r"
     ]
    },
    {
     "name": "stdout",
     "output_type": "stream",
     "text": [
      "Moviepy - Done !\n",
      "Moviepy - video ready /Users/dk/project/rl/lib/episode_recorderrun_0/episode49.mp4\n",
      "Moviepy - Building video /Users/dk/project/rl/lib/episode_recorderrun_0/episode50.mp4.\n",
      "Moviepy - Writing video /Users/dk/project/rl/lib/episode_recorderrun_0/episode50.mp4\n",
      "\n"
     ]
    },
    {
     "name": "stderr",
     "output_type": "stream",
     "text": [
      "                                                             \r"
     ]
    },
    {
     "name": "stdout",
     "output_type": "stream",
     "text": [
      "Moviepy - Done !\n",
      "Moviepy - video ready /Users/dk/project/rl/lib/episode_recorderrun_0/episode50.mp4\n",
      "Moviepy - Building video /Users/dk/project/rl/lib/episode_recorderrun_0/episode51.mp4.\n",
      "Moviepy - Writing video /Users/dk/project/rl/lib/episode_recorderrun_0/episode51.mp4\n",
      "\n"
     ]
    },
    {
     "name": "stderr",
     "output_type": "stream",
     "text": [
      "                                                               \r"
     ]
    },
    {
     "name": "stdout",
     "output_type": "stream",
     "text": [
      "Moviepy - Done !\n",
      "Moviepy - video ready /Users/dk/project/rl/lib/episode_recorderrun_0/episode51.mp4\n",
      "Moviepy - Building video /Users/dk/project/rl/lib/episode_recorderrun_0/episode52.mp4.\n",
      "Moviepy - Writing video /Users/dk/project/rl/lib/episode_recorderrun_0/episode52.mp4\n",
      "\n"
     ]
    },
    {
     "name": "stderr",
     "output_type": "stream",
     "text": [
      "                                                             \r"
     ]
    },
    {
     "name": "stdout",
     "output_type": "stream",
     "text": [
      "Moviepy - Done !\n",
      "Moviepy - video ready /Users/dk/project/rl/lib/episode_recorderrun_0/episode52.mp4\n",
      "Moviepy - Building video /Users/dk/project/rl/lib/episode_recorderrun_0/episode53.mp4.\n",
      "Moviepy - Writing video /Users/dk/project/rl/lib/episode_recorderrun_0/episode53.mp4\n",
      "\n"
     ]
    },
    {
     "name": "stderr",
     "output_type": "stream",
     "text": [
      "                                                               \r"
     ]
    },
    {
     "name": "stdout",
     "output_type": "stream",
     "text": [
      "Moviepy - Done !\n",
      "Moviepy - video ready /Users/dk/project/rl/lib/episode_recorderrun_0/episode53.mp4\n",
      "Moviepy - Building video /Users/dk/project/rl/lib/episode_recorderrun_0/episode54.mp4.\n",
      "Moviepy - Writing video /Users/dk/project/rl/lib/episode_recorderrun_0/episode54.mp4\n",
      "\n"
     ]
    },
    {
     "name": "stderr",
     "output_type": "stream",
     "text": [
      "                                                              \r"
     ]
    },
    {
     "name": "stdout",
     "output_type": "stream",
     "text": [
      "Moviepy - Done !\n",
      "Moviepy - video ready /Users/dk/project/rl/lib/episode_recorderrun_0/episode54.mp4\n",
      "Moviepy - Building video /Users/dk/project/rl/lib/episode_recorderrun_0/episode55.mp4.\n",
      "Moviepy - Writing video /Users/dk/project/rl/lib/episode_recorderrun_0/episode55.mp4\n",
      "\n"
     ]
    },
    {
     "name": "stderr",
     "output_type": "stream",
     "text": [
      "                                                               \r"
     ]
    },
    {
     "name": "stdout",
     "output_type": "stream",
     "text": [
      "Moviepy - Done !\n",
      "Moviepy - video ready /Users/dk/project/rl/lib/episode_recorderrun_0/episode55.mp4\n",
      "Moviepy - Building video /Users/dk/project/rl/lib/episode_recorderrun_0/episode56.mp4.\n",
      "Moviepy - Writing video /Users/dk/project/rl/lib/episode_recorderrun_0/episode56.mp4\n",
      "\n"
     ]
    },
    {
     "name": "stderr",
     "output_type": "stream",
     "text": [
      "                                                             \r"
     ]
    },
    {
     "name": "stdout",
     "output_type": "stream",
     "text": [
      "Moviepy - Done !\n",
      "Moviepy - video ready /Users/dk/project/rl/lib/episode_recorderrun_0/episode56.mp4\n",
      "Moviepy - Building video /Users/dk/project/rl/lib/episode_recorderrun_0/episode57.mp4.\n",
      "Moviepy - Writing video /Users/dk/project/rl/lib/episode_recorderrun_0/episode57.mp4\n",
      "\n"
     ]
    },
    {
     "name": "stderr",
     "output_type": "stream",
     "text": [
      "                                                             \r"
     ]
    },
    {
     "name": "stdout",
     "output_type": "stream",
     "text": [
      "Moviepy - Done !\n",
      "Moviepy - video ready /Users/dk/project/rl/lib/episode_recorderrun_0/episode57.mp4\n",
      "Moviepy - Building video /Users/dk/project/rl/lib/episode_recorderrun_0/episode58.mp4.\n",
      "Moviepy - Writing video /Users/dk/project/rl/lib/episode_recorderrun_0/episode58.mp4\n",
      "\n"
     ]
    },
    {
     "name": "stderr",
     "output_type": "stream",
     "text": [
      "                                                             \r"
     ]
    },
    {
     "name": "stdout",
     "output_type": "stream",
     "text": [
      "Moviepy - Done !\n",
      "Moviepy - video ready /Users/dk/project/rl/lib/episode_recorderrun_0/episode58.mp4\n",
      "Moviepy - Building video /Users/dk/project/rl/lib/episode_recorderrun_0/episode59.mp4.\n",
      "Moviepy - Writing video /Users/dk/project/rl/lib/episode_recorderrun_0/episode59.mp4\n",
      "\n"
     ]
    },
    {
     "name": "stderr",
     "output_type": "stream",
     "text": [
      "                                                               \r"
     ]
    },
    {
     "name": "stdout",
     "output_type": "stream",
     "text": [
      "Moviepy - Done !\n",
      "Moviepy - video ready /Users/dk/project/rl/lib/episode_recorderrun_0/episode59.mp4\n",
      "Moviepy - Building video /Users/dk/project/rl/lib/episode_recorderrun_0/episode60.mp4.\n",
      "Moviepy - Writing video /Users/dk/project/rl/lib/episode_recorderrun_0/episode60.mp4\n",
      "\n"
     ]
    },
    {
     "name": "stderr",
     "output_type": "stream",
     "text": [
      "                                                             \r"
     ]
    },
    {
     "name": "stdout",
     "output_type": "stream",
     "text": [
      "Moviepy - Done !\n",
      "Moviepy - video ready /Users/dk/project/rl/lib/episode_recorderrun_0/episode60.mp4\n",
      "Moviepy - Building video /Users/dk/project/rl/lib/episode_recorderrun_0/episode61.mp4.\n",
      "Moviepy - Writing video /Users/dk/project/rl/lib/episode_recorderrun_0/episode61.mp4\n",
      "\n"
     ]
    },
    {
     "name": "stderr",
     "output_type": "stream",
     "text": [
      "                                                               \r"
     ]
    },
    {
     "name": "stdout",
     "output_type": "stream",
     "text": [
      "Moviepy - Done !\n",
      "Moviepy - video ready /Users/dk/project/rl/lib/episode_recorderrun_0/episode61.mp4\n",
      "Moviepy - Building video /Users/dk/project/rl/lib/episode_recorderrun_0/episode62.mp4.\n",
      "Moviepy - Writing video /Users/dk/project/rl/lib/episode_recorderrun_0/episode62.mp4\n",
      "\n"
     ]
    },
    {
     "name": "stderr",
     "output_type": "stream",
     "text": [
      "                                                               \r"
     ]
    },
    {
     "name": "stdout",
     "output_type": "stream",
     "text": [
      "Moviepy - Done !\n",
      "Moviepy - video ready /Users/dk/project/rl/lib/episode_recorderrun_0/episode62.mp4\n",
      "Moviepy - Building video /Users/dk/project/rl/lib/episode_recorderrun_0/episode63.mp4.\n",
      "Moviepy - Writing video /Users/dk/project/rl/lib/episode_recorderrun_0/episode63.mp4\n",
      "\n"
     ]
    },
    {
     "name": "stderr",
     "output_type": "stream",
     "text": [
      "                                                               \r"
     ]
    },
    {
     "name": "stdout",
     "output_type": "stream",
     "text": [
      "Moviepy - Done !\n",
      "Moviepy - video ready /Users/dk/project/rl/lib/episode_recorderrun_0/episode63.mp4\n",
      "Moviepy - Building video /Users/dk/project/rl/lib/episode_recorderrun_0/episode64.mp4.\n",
      "Moviepy - Writing video /Users/dk/project/rl/lib/episode_recorderrun_0/episode64.mp4\n",
      "\n"
     ]
    },
    {
     "name": "stderr",
     "output_type": "stream",
     "text": [
      "                                                             \r"
     ]
    },
    {
     "name": "stdout",
     "output_type": "stream",
     "text": [
      "Moviepy - Done !\n",
      "Moviepy - video ready /Users/dk/project/rl/lib/episode_recorderrun_0/episode64.mp4\n",
      "Moviepy - Building video /Users/dk/project/rl/lib/episode_recorderrun_0/episode65.mp4.\n",
      "Moviepy - Writing video /Users/dk/project/rl/lib/episode_recorderrun_0/episode65.mp4\n",
      "\n"
     ]
    },
    {
     "name": "stderr",
     "output_type": "stream",
     "text": [
      "                                                               \r"
     ]
    },
    {
     "name": "stdout",
     "output_type": "stream",
     "text": [
      "Moviepy - Done !\n",
      "Moviepy - video ready /Users/dk/project/rl/lib/episode_recorderrun_0/episode65.mp4\n",
      "Moviepy - Building video /Users/dk/project/rl/lib/episode_recorderrun_0/episode66.mp4.\n",
      "Moviepy - Writing video /Users/dk/project/rl/lib/episode_recorderrun_0/episode66.mp4\n",
      "\n"
     ]
    },
    {
     "name": "stderr",
     "output_type": "stream",
     "text": [
      "                                                             \r"
     ]
    },
    {
     "name": "stdout",
     "output_type": "stream",
     "text": [
      "Moviepy - Done !\n",
      "Moviepy - video ready /Users/dk/project/rl/lib/episode_recorderrun_0/episode66.mp4\n",
      "Moviepy - Building video /Users/dk/project/rl/lib/episode_recorderrun_0/episode67.mp4.\n",
      "Moviepy - Writing video /Users/dk/project/rl/lib/episode_recorderrun_0/episode67.mp4\n",
      "\n"
     ]
    },
    {
     "name": "stderr",
     "output_type": "stream",
     "text": [
      "                                                             \r"
     ]
    },
    {
     "name": "stdout",
     "output_type": "stream",
     "text": [
      "Moviepy - Done !\n",
      "Moviepy - video ready /Users/dk/project/rl/lib/episode_recorderrun_0/episode67.mp4\n",
      "Moviepy - Building video /Users/dk/project/rl/lib/episode_recorderrun_0/episode68.mp4.\n",
      "Moviepy - Writing video /Users/dk/project/rl/lib/episode_recorderrun_0/episode68.mp4\n",
      "\n"
     ]
    },
    {
     "name": "stderr",
     "output_type": "stream",
     "text": [
      "                                                             \r"
     ]
    },
    {
     "name": "stdout",
     "output_type": "stream",
     "text": [
      "Moviepy - Done !\n",
      "Moviepy - video ready /Users/dk/project/rl/lib/episode_recorderrun_0/episode68.mp4\n",
      "Moviepy - Building video /Users/dk/project/rl/lib/episode_recorderrun_0/episode69.mp4.\n",
      "Moviepy - Writing video /Users/dk/project/rl/lib/episode_recorderrun_0/episode69.mp4\n",
      "\n"
     ]
    },
    {
     "name": "stderr",
     "output_type": "stream",
     "text": [
      "                                                               \r"
     ]
    },
    {
     "name": "stdout",
     "output_type": "stream",
     "text": [
      "Moviepy - Done !\n",
      "Moviepy - video ready /Users/dk/project/rl/lib/episode_recorderrun_0/episode69.mp4\n",
      "Moviepy - Building video /Users/dk/project/rl/lib/episode_recorderrun_0/episode70.mp4.\n",
      "Moviepy - Writing video /Users/dk/project/rl/lib/episode_recorderrun_0/episode70.mp4\n",
      "\n"
     ]
    },
    {
     "name": "stderr",
     "output_type": "stream",
     "text": [
      "                                                               \r"
     ]
    },
    {
     "name": "stdout",
     "output_type": "stream",
     "text": [
      "Moviepy - Done !\n",
      "Moviepy - video ready /Users/dk/project/rl/lib/episode_recorderrun_0/episode70.mp4\n",
      "Moviepy - Building video /Users/dk/project/rl/lib/episode_recorderrun_0/episode71.mp4.\n",
      "Moviepy - Writing video /Users/dk/project/rl/lib/episode_recorderrun_0/episode71.mp4\n",
      "\n"
     ]
    },
    {
     "name": "stderr",
     "output_type": "stream",
     "text": [
      "                                                             \r"
     ]
    },
    {
     "name": "stdout",
     "output_type": "stream",
     "text": [
      "Moviepy - Done !\n",
      "Moviepy - video ready /Users/dk/project/rl/lib/episode_recorderrun_0/episode71.mp4\n",
      "Moviepy - Building video /Users/dk/project/rl/lib/episode_recorderrun_0/episode72.mp4.\n",
      "Moviepy - Writing video /Users/dk/project/rl/lib/episode_recorderrun_0/episode72.mp4\n",
      "\n"
     ]
    },
    {
     "name": "stderr",
     "output_type": "stream",
     "text": [
      "                                                               \r"
     ]
    },
    {
     "name": "stdout",
     "output_type": "stream",
     "text": [
      "Moviepy - Done !\n",
      "Moviepy - video ready /Users/dk/project/rl/lib/episode_recorderrun_0/episode72.mp4\n",
      "Moviepy - Building video /Users/dk/project/rl/lib/episode_recorderrun_0/episode73.mp4.\n",
      "Moviepy - Writing video /Users/dk/project/rl/lib/episode_recorderrun_0/episode73.mp4\n",
      "\n"
     ]
    },
    {
     "name": "stderr",
     "output_type": "stream",
     "text": [
      "                                                             \r"
     ]
    },
    {
     "name": "stdout",
     "output_type": "stream",
     "text": [
      "Moviepy - Done !\n",
      "Moviepy - video ready /Users/dk/project/rl/lib/episode_recorderrun_0/episode73.mp4\n",
      "Moviepy - Building video /Users/dk/project/rl/lib/episode_recorderrun_0/episode74.mp4.\n",
      "Moviepy - Writing video /Users/dk/project/rl/lib/episode_recorderrun_0/episode74.mp4\n",
      "\n"
     ]
    },
    {
     "name": "stderr",
     "output_type": "stream",
     "text": [
      "                                                             \r"
     ]
    },
    {
     "name": "stdout",
     "output_type": "stream",
     "text": [
      "Moviepy - Done !\n",
      "Moviepy - video ready /Users/dk/project/rl/lib/episode_recorderrun_0/episode74.mp4\n",
      "Moviepy - Building video /Users/dk/project/rl/lib/episode_recorderrun_0/episode75.mp4.\n",
      "Moviepy - Writing video /Users/dk/project/rl/lib/episode_recorderrun_0/episode75.mp4\n",
      "\n"
     ]
    },
    {
     "name": "stderr",
     "output_type": "stream",
     "text": [
      "                                                             \r"
     ]
    },
    {
     "name": "stdout",
     "output_type": "stream",
     "text": [
      "Moviepy - Done !\n",
      "Moviepy - video ready /Users/dk/project/rl/lib/episode_recorderrun_0/episode75.mp4\n",
      "Moviepy - Building video /Users/dk/project/rl/lib/episode_recorderrun_0/episode76.mp4.\n",
      "Moviepy - Writing video /Users/dk/project/rl/lib/episode_recorderrun_0/episode76.mp4\n",
      "\n"
     ]
    },
    {
     "name": "stderr",
     "output_type": "stream",
     "text": [
      "                                                             \r"
     ]
    },
    {
     "name": "stdout",
     "output_type": "stream",
     "text": [
      "Moviepy - Done !\n",
      "Moviepy - video ready /Users/dk/project/rl/lib/episode_recorderrun_0/episode76.mp4\n",
      "Moviepy - Building video /Users/dk/project/rl/lib/episode_recorderrun_0/episode77.mp4.\n",
      "Moviepy - Writing video /Users/dk/project/rl/lib/episode_recorderrun_0/episode77.mp4\n",
      "\n"
     ]
    },
    {
     "name": "stderr",
     "output_type": "stream",
     "text": [
      "                                                              \r"
     ]
    },
    {
     "name": "stdout",
     "output_type": "stream",
     "text": [
      "Moviepy - Done !\n",
      "Moviepy - video ready /Users/dk/project/rl/lib/episode_recorderrun_0/episode77.mp4\n",
      "Moviepy - Building video /Users/dk/project/rl/lib/episode_recorderrun_0/episode78.mp4.\n",
      "Moviepy - Writing video /Users/dk/project/rl/lib/episode_recorderrun_0/episode78.mp4\n",
      "\n"
     ]
    },
    {
     "name": "stderr",
     "output_type": "stream",
     "text": [
      "                                                               \r"
     ]
    },
    {
     "name": "stdout",
     "output_type": "stream",
     "text": [
      "Moviepy - Done !\n",
      "Moviepy - video ready /Users/dk/project/rl/lib/episode_recorderrun_0/episode78.mp4\n",
      "Moviepy - Building video /Users/dk/project/rl/lib/episode_recorderrun_0/episode79.mp4.\n",
      "Moviepy - Writing video /Users/dk/project/rl/lib/episode_recorderrun_0/episode79.mp4\n",
      "\n"
     ]
    },
    {
     "name": "stderr",
     "output_type": "stream",
     "text": [
      "                                                               \r"
     ]
    },
    {
     "name": "stdout",
     "output_type": "stream",
     "text": [
      "Moviepy - Done !\n",
      "Moviepy - video ready /Users/dk/project/rl/lib/episode_recorderrun_0/episode79.mp4\n",
      "Moviepy - Building video /Users/dk/project/rl/lib/episode_recorderrun_0/episode80.mp4.\n",
      "Moviepy - Writing video /Users/dk/project/rl/lib/episode_recorderrun_0/episode80.mp4\n",
      "\n"
     ]
    },
    {
     "name": "stderr",
     "output_type": "stream",
     "text": [
      "                                                               \r"
     ]
    },
    {
     "name": "stdout",
     "output_type": "stream",
     "text": [
      "Moviepy - Done !\n",
      "Moviepy - video ready /Users/dk/project/rl/lib/episode_recorderrun_0/episode80.mp4\n",
      "Moviepy - Building video /Users/dk/project/rl/lib/episode_recorderrun_0/episode81.mp4.\n",
      "Moviepy - Writing video /Users/dk/project/rl/lib/episode_recorderrun_0/episode81.mp4\n",
      "\n"
     ]
    },
    {
     "name": "stderr",
     "output_type": "stream",
     "text": [
      "                                                               \r"
     ]
    },
    {
     "name": "stdout",
     "output_type": "stream",
     "text": [
      "Moviepy - Done !\n",
      "Moviepy - video ready /Users/dk/project/rl/lib/episode_recorderrun_0/episode81.mp4\n",
      "Moviepy - Building video /Users/dk/project/rl/lib/episode_recorderrun_0/episode82.mp4.\n",
      "Moviepy - Writing video /Users/dk/project/rl/lib/episode_recorderrun_0/episode82.mp4\n",
      "\n"
     ]
    },
    {
     "name": "stderr",
     "output_type": "stream",
     "text": [
      "                                                              \r"
     ]
    },
    {
     "name": "stdout",
     "output_type": "stream",
     "text": [
      "Moviepy - Done !\n",
      "Moviepy - video ready /Users/dk/project/rl/lib/episode_recorderrun_0/episode82.mp4\n",
      "Moviepy - Building video /Users/dk/project/rl/lib/episode_recorderrun_0/episode83.mp4.\n",
      "Moviepy - Writing video /Users/dk/project/rl/lib/episode_recorderrun_0/episode83.mp4\n",
      "\n"
     ]
    },
    {
     "name": "stderr",
     "output_type": "stream",
     "text": [
      "                                                             \r"
     ]
    },
    {
     "name": "stdout",
     "output_type": "stream",
     "text": [
      "Moviepy - Done !\n",
      "Moviepy - video ready /Users/dk/project/rl/lib/episode_recorderrun_0/episode83.mp4\n",
      "Moviepy - Building video /Users/dk/project/rl/lib/episode_recorderrun_0/episode84.mp4.\n",
      "Moviepy - Writing video /Users/dk/project/rl/lib/episode_recorderrun_0/episode84.mp4\n",
      "\n"
     ]
    },
    {
     "name": "stderr",
     "output_type": "stream",
     "text": [
      "                                                               \r"
     ]
    },
    {
     "name": "stdout",
     "output_type": "stream",
     "text": [
      "Moviepy - Done !\n",
      "Moviepy - video ready /Users/dk/project/rl/lib/episode_recorderrun_0/episode84.mp4\n",
      "Moviepy - Building video /Users/dk/project/rl/lib/episode_recorderrun_0/episode85.mp4.\n",
      "Moviepy - Writing video /Users/dk/project/rl/lib/episode_recorderrun_0/episode85.mp4\n",
      "\n"
     ]
    },
    {
     "name": "stderr",
     "output_type": "stream",
     "text": [
      "                                                               \r"
     ]
    },
    {
     "name": "stdout",
     "output_type": "stream",
     "text": [
      "Moviepy - Done !\n",
      "Moviepy - video ready /Users/dk/project/rl/lib/episode_recorderrun_0/episode85.mp4\n",
      "Moviepy - Building video /Users/dk/project/rl/lib/episode_recorderrun_0/episode86.mp4.\n",
      "Moviepy - Writing video /Users/dk/project/rl/lib/episode_recorderrun_0/episode86.mp4\n",
      "\n"
     ]
    },
    {
     "name": "stderr",
     "output_type": "stream",
     "text": [
      "                                                             \r"
     ]
    },
    {
     "name": "stdout",
     "output_type": "stream",
     "text": [
      "Moviepy - Done !\n",
      "Moviepy - video ready /Users/dk/project/rl/lib/episode_recorderrun_0/episode86.mp4\n",
      "Moviepy - Building video /Users/dk/project/rl/lib/episode_recorderrun_0/episode87.mp4.\n",
      "Moviepy - Writing video /Users/dk/project/rl/lib/episode_recorderrun_0/episode87.mp4\n",
      "\n"
     ]
    },
    {
     "name": "stderr",
     "output_type": "stream",
     "text": [
      "                                                               \r"
     ]
    },
    {
     "name": "stdout",
     "output_type": "stream",
     "text": [
      "Moviepy - Done !\n",
      "Moviepy - video ready /Users/dk/project/rl/lib/episode_recorderrun_0/episode87.mp4\n",
      "Moviepy - Building video /Users/dk/project/rl/lib/episode_recorderrun_0/episode88.mp4.\n",
      "Moviepy - Writing video /Users/dk/project/rl/lib/episode_recorderrun_0/episode88.mp4\n",
      "\n"
     ]
    },
    {
     "name": "stderr",
     "output_type": "stream",
     "text": [
      "                                                               \r"
     ]
    },
    {
     "name": "stdout",
     "output_type": "stream",
     "text": [
      "Moviepy - Done !\n",
      "Moviepy - video ready /Users/dk/project/rl/lib/episode_recorderrun_0/episode88.mp4\n",
      "Moviepy - Building video /Users/dk/project/rl/lib/episode_recorderrun_0/episode89.mp4.\n",
      "Moviepy - Writing video /Users/dk/project/rl/lib/episode_recorderrun_0/episode89.mp4\n",
      "\n"
     ]
    },
    {
     "name": "stderr",
     "output_type": "stream",
     "text": [
      "                                                               \r"
     ]
    },
    {
     "name": "stdout",
     "output_type": "stream",
     "text": [
      "Moviepy - Done !\n",
      "Moviepy - video ready /Users/dk/project/rl/lib/episode_recorderrun_0/episode89.mp4\n",
      "Moviepy - Building video /Users/dk/project/rl/lib/episode_recorderrun_0/episode90.mp4.\n",
      "Moviepy - Writing video /Users/dk/project/rl/lib/episode_recorderrun_0/episode90.mp4\n",
      "\n"
     ]
    },
    {
     "name": "stderr",
     "output_type": "stream",
     "text": [
      "                                                               \r"
     ]
    },
    {
     "name": "stdout",
     "output_type": "stream",
     "text": [
      "Moviepy - Done !\n",
      "Moviepy - video ready /Users/dk/project/rl/lib/episode_recorderrun_0/episode90.mp4\n",
      "Moviepy - Building video /Users/dk/project/rl/lib/episode_recorderrun_0/episode91.mp4.\n",
      "Moviepy - Writing video /Users/dk/project/rl/lib/episode_recorderrun_0/episode91.mp4\n",
      "\n"
     ]
    },
    {
     "name": "stderr",
     "output_type": "stream",
     "text": [
      "                                                               \r"
     ]
    },
    {
     "name": "stdout",
     "output_type": "stream",
     "text": [
      "Moviepy - Done !\n",
      "Moviepy - video ready /Users/dk/project/rl/lib/episode_recorderrun_0/episode91.mp4\n",
      "Moviepy - Building video /Users/dk/project/rl/lib/episode_recorderrun_0/episode92.mp4.\n",
      "Moviepy - Writing video /Users/dk/project/rl/lib/episode_recorderrun_0/episode92.mp4\n",
      "\n"
     ]
    },
    {
     "name": "stderr",
     "output_type": "stream",
     "text": [
      "                                                             \r"
     ]
    },
    {
     "name": "stdout",
     "output_type": "stream",
     "text": [
      "Moviepy - Done !\n",
      "Moviepy - video ready /Users/dk/project/rl/lib/episode_recorderrun_0/episode92.mp4\n",
      "Moviepy - Building video /Users/dk/project/rl/lib/episode_recorderrun_0/episode93.mp4.\n",
      "Moviepy - Writing video /Users/dk/project/rl/lib/episode_recorderrun_0/episode93.mp4\n",
      "\n"
     ]
    },
    {
     "name": "stderr",
     "output_type": "stream",
     "text": [
      "                                                               \r"
     ]
    },
    {
     "name": "stdout",
     "output_type": "stream",
     "text": [
      "Moviepy - Done !\n",
      "Moviepy - video ready /Users/dk/project/rl/lib/episode_recorderrun_0/episode93.mp4\n",
      "Moviepy - Building video /Users/dk/project/rl/lib/episode_recorderrun_0/episode94.mp4.\n",
      "Moviepy - Writing video /Users/dk/project/rl/lib/episode_recorderrun_0/episode94.mp4\n",
      "\n"
     ]
    },
    {
     "name": "stderr",
     "output_type": "stream",
     "text": [
      "                                                               \r"
     ]
    },
    {
     "name": "stdout",
     "output_type": "stream",
     "text": [
      "Moviepy - Done !\n",
      "Moviepy - video ready /Users/dk/project/rl/lib/episode_recorderrun_0/episode94.mp4\n",
      "Moviepy - Building video /Users/dk/project/rl/lib/episode_recorderrun_0/episode95.mp4.\n",
      "Moviepy - Writing video /Users/dk/project/rl/lib/episode_recorderrun_0/episode95.mp4\n",
      "\n"
     ]
    },
    {
     "name": "stderr",
     "output_type": "stream",
     "text": [
      "                                                               \r"
     ]
    },
    {
     "name": "stdout",
     "output_type": "stream",
     "text": [
      "Moviepy - Done !\n",
      "Moviepy - video ready /Users/dk/project/rl/lib/episode_recorderrun_0/episode95.mp4\n",
      "Moviepy - Building video /Users/dk/project/rl/lib/episode_recorderrun_0/episode96.mp4.\n",
      "Moviepy - Writing video /Users/dk/project/rl/lib/episode_recorderrun_0/episode96.mp4\n",
      "\n"
     ]
    },
    {
     "name": "stderr",
     "output_type": "stream",
     "text": [
      "                                                               \r"
     ]
    },
    {
     "name": "stdout",
     "output_type": "stream",
     "text": [
      "Moviepy - Done !\n",
      "Moviepy - video ready /Users/dk/project/rl/lib/episode_recorderrun_0/episode96.mp4\n",
      "Moviepy - Building video /Users/dk/project/rl/lib/episode_recorderrun_0/episode97.mp4.\n",
      "Moviepy - Writing video /Users/dk/project/rl/lib/episode_recorderrun_0/episode97.mp4\n",
      "\n"
     ]
    },
    {
     "name": "stderr",
     "output_type": "stream",
     "text": [
      "                                                               \r"
     ]
    },
    {
     "name": "stdout",
     "output_type": "stream",
     "text": [
      "Moviepy - Done !\n",
      "Moviepy - video ready /Users/dk/project/rl/lib/episode_recorderrun_0/episode97.mp4\n",
      "Moviepy - Building video /Users/dk/project/rl/lib/episode_recorderrun_0/episode98.mp4.\n",
      "Moviepy - Writing video /Users/dk/project/rl/lib/episode_recorderrun_0/episode98.mp4\n",
      "\n"
     ]
    },
    {
     "name": "stderr",
     "output_type": "stream",
     "text": [
      "                                                               \r"
     ]
    },
    {
     "name": "stdout",
     "output_type": "stream",
     "text": [
      "Moviepy - Done !\n",
      "Moviepy - video ready /Users/dk/project/rl/lib/episode_recorderrun_0/episode98.mp4\n",
      "episode  100 / 300\n",
      "Moviepy - Building video /Users/dk/project/rl/lib/episode_recorderrun_0/episode99.mp4.\n",
      "Moviepy - Writing video /Users/dk/project/rl/lib/episode_recorderrun_0/episode99.mp4\n",
      "\n"
     ]
    },
    {
     "name": "stderr",
     "output_type": "stream",
     "text": [
      "                                                               \r"
     ]
    },
    {
     "name": "stdout",
     "output_type": "stream",
     "text": [
      "Moviepy - Done !\n",
      "Moviepy - video ready /Users/dk/project/rl/lib/episode_recorderrun_0/episode99.mp4\n",
      "Moviepy - Building video /Users/dk/project/rl/lib/episode_recorderrun_0/episode100.mp4.\n",
      "Moviepy - Writing video /Users/dk/project/rl/lib/episode_recorderrun_0/episode100.mp4\n",
      "\n"
     ]
    },
    {
     "name": "stderr",
     "output_type": "stream",
     "text": [
      "                                                               \r"
     ]
    },
    {
     "name": "stdout",
     "output_type": "stream",
     "text": [
      "Moviepy - Done !\n",
      "Moviepy - video ready /Users/dk/project/rl/lib/episode_recorderrun_0/episode100.mp4\n",
      "Moviepy - Building video /Users/dk/project/rl/lib/episode_recorderrun_0/episode101.mp4.\n",
      "Moviepy - Writing video /Users/dk/project/rl/lib/episode_recorderrun_0/episode101.mp4\n",
      "\n"
     ]
    },
    {
     "name": "stderr",
     "output_type": "stream",
     "text": [
      "                                                               \r"
     ]
    },
    {
     "name": "stdout",
     "output_type": "stream",
     "text": [
      "Moviepy - Done !\n",
      "Moviepy - video ready /Users/dk/project/rl/lib/episode_recorderrun_0/episode101.mp4\n",
      "Moviepy - Building video /Users/dk/project/rl/lib/episode_recorderrun_0/episode102.mp4.\n",
      "Moviepy - Writing video /Users/dk/project/rl/lib/episode_recorderrun_0/episode102.mp4\n",
      "\n"
     ]
    },
    {
     "name": "stderr",
     "output_type": "stream",
     "text": [
      "                                                               \r"
     ]
    },
    {
     "name": "stdout",
     "output_type": "stream",
     "text": [
      "Moviepy - Done !\n",
      "Moviepy - video ready /Users/dk/project/rl/lib/episode_recorderrun_0/episode102.mp4\n",
      "Moviepy - Building video /Users/dk/project/rl/lib/episode_recorderrun_0/episode103.mp4.\n",
      "Moviepy - Writing video /Users/dk/project/rl/lib/episode_recorderrun_0/episode103.mp4\n",
      "\n"
     ]
    },
    {
     "name": "stderr",
     "output_type": "stream",
     "text": [
      "                                                               \r"
     ]
    },
    {
     "name": "stdout",
     "output_type": "stream",
     "text": [
      "Moviepy - Done !\n",
      "Moviepy - video ready /Users/dk/project/rl/lib/episode_recorderrun_0/episode103.mp4\n",
      "Moviepy - Building video /Users/dk/project/rl/lib/episode_recorderrun_0/episode104.mp4.\n",
      "Moviepy - Writing video /Users/dk/project/rl/lib/episode_recorderrun_0/episode104.mp4\n",
      "\n"
     ]
    },
    {
     "name": "stderr",
     "output_type": "stream",
     "text": [
      "                                                               \r"
     ]
    },
    {
     "name": "stdout",
     "output_type": "stream",
     "text": [
      "Moviepy - Done !\n",
      "Moviepy - video ready /Users/dk/project/rl/lib/episode_recorderrun_0/episode104.mp4\n",
      "Moviepy - Building video /Users/dk/project/rl/lib/episode_recorderrun_0/episode105.mp4.\n",
      "Moviepy - Writing video /Users/dk/project/rl/lib/episode_recorderrun_0/episode105.mp4\n",
      "\n"
     ]
    },
    {
     "name": "stderr",
     "output_type": "stream",
     "text": [
      "                                                               \r"
     ]
    },
    {
     "name": "stdout",
     "output_type": "stream",
     "text": [
      "Moviepy - Done !\n",
      "Moviepy - video ready /Users/dk/project/rl/lib/episode_recorderrun_0/episode105.mp4\n",
      "Moviepy - Building video /Users/dk/project/rl/lib/episode_recorderrun_0/episode106.mp4.\n",
      "Moviepy - Writing video /Users/dk/project/rl/lib/episode_recorderrun_0/episode106.mp4\n",
      "\n"
     ]
    },
    {
     "name": "stderr",
     "output_type": "stream",
     "text": [
      "                                                               \r"
     ]
    },
    {
     "name": "stdout",
     "output_type": "stream",
     "text": [
      "Moviepy - Done !\n",
      "Moviepy - video ready /Users/dk/project/rl/lib/episode_recorderrun_0/episode106.mp4\n",
      "Moviepy - Building video /Users/dk/project/rl/lib/episode_recorderrun_0/episode107.mp4.\n",
      "Moviepy - Writing video /Users/dk/project/rl/lib/episode_recorderrun_0/episode107.mp4\n",
      "\n"
     ]
    },
    {
     "name": "stderr",
     "output_type": "stream",
     "text": [
      "                                                               \r"
     ]
    },
    {
     "name": "stdout",
     "output_type": "stream",
     "text": [
      "Moviepy - Done !\n",
      "Moviepy - video ready /Users/dk/project/rl/lib/episode_recorderrun_0/episode107.mp4\n",
      "Moviepy - Building video /Users/dk/project/rl/lib/episode_recorderrun_0/episode108.mp4.\n",
      "Moviepy - Writing video /Users/dk/project/rl/lib/episode_recorderrun_0/episode108.mp4\n",
      "\n"
     ]
    },
    {
     "name": "stderr",
     "output_type": "stream",
     "text": [
      "                                                             \r"
     ]
    },
    {
     "name": "stdout",
     "output_type": "stream",
     "text": [
      "Moviepy - Done !\n",
      "Moviepy - video ready /Users/dk/project/rl/lib/episode_recorderrun_0/episode108.mp4\n",
      "Moviepy - Building video /Users/dk/project/rl/lib/episode_recorderrun_0/episode109.mp4.\n",
      "Moviepy - Writing video /Users/dk/project/rl/lib/episode_recorderrun_0/episode109.mp4\n",
      "\n"
     ]
    },
    {
     "name": "stderr",
     "output_type": "stream",
     "text": [
      "                                                               \r"
     ]
    },
    {
     "name": "stdout",
     "output_type": "stream",
     "text": [
      "Moviepy - Done !\n",
      "Moviepy - video ready /Users/dk/project/rl/lib/episode_recorderrun_0/episode109.mp4\n",
      "Moviepy - Building video /Users/dk/project/rl/lib/episode_recorderrun_0/episode110.mp4.\n",
      "Moviepy - Writing video /Users/dk/project/rl/lib/episode_recorderrun_0/episode110.mp4\n",
      "\n"
     ]
    },
    {
     "name": "stderr",
     "output_type": "stream",
     "text": [
      "                                                             \r"
     ]
    },
    {
     "name": "stdout",
     "output_type": "stream",
     "text": [
      "Moviepy - Done !\n",
      "Moviepy - video ready /Users/dk/project/rl/lib/episode_recorderrun_0/episode110.mp4\n",
      "Moviepy - Building video /Users/dk/project/rl/lib/episode_recorderrun_0/episode111.mp4.\n",
      "Moviepy - Writing video /Users/dk/project/rl/lib/episode_recorderrun_0/episode111.mp4\n",
      "\n"
     ]
    },
    {
     "name": "stderr",
     "output_type": "stream",
     "text": [
      "                                                               \r"
     ]
    },
    {
     "name": "stdout",
     "output_type": "stream",
     "text": [
      "Moviepy - Done !\n",
      "Moviepy - video ready /Users/dk/project/rl/lib/episode_recorderrun_0/episode111.mp4\n",
      "Moviepy - Building video /Users/dk/project/rl/lib/episode_recorderrun_0/episode112.mp4.\n",
      "Moviepy - Writing video /Users/dk/project/rl/lib/episode_recorderrun_0/episode112.mp4\n",
      "\n"
     ]
    },
    {
     "name": "stderr",
     "output_type": "stream",
     "text": [
      "                                                               \r"
     ]
    },
    {
     "name": "stdout",
     "output_type": "stream",
     "text": [
      "Moviepy - Done !\n",
      "Moviepy - video ready /Users/dk/project/rl/lib/episode_recorderrun_0/episode112.mp4\n",
      "Moviepy - Building video /Users/dk/project/rl/lib/episode_recorderrun_0/episode113.mp4.\n",
      "Moviepy - Writing video /Users/dk/project/rl/lib/episode_recorderrun_0/episode113.mp4\n",
      "\n"
     ]
    },
    {
     "name": "stderr",
     "output_type": "stream",
     "text": [
      "                                                               \r"
     ]
    },
    {
     "name": "stdout",
     "output_type": "stream",
     "text": [
      "Moviepy - Done !\n",
      "Moviepy - video ready /Users/dk/project/rl/lib/episode_recorderrun_0/episode113.mp4\n",
      "Moviepy - Building video /Users/dk/project/rl/lib/episode_recorderrun_0/episode114.mp4.\n",
      "Moviepy - Writing video /Users/dk/project/rl/lib/episode_recorderrun_0/episode114.mp4\n",
      "\n"
     ]
    },
    {
     "name": "stderr",
     "output_type": "stream",
     "text": [
      "                                                               \r"
     ]
    },
    {
     "name": "stdout",
     "output_type": "stream",
     "text": [
      "Moviepy - Done !\n",
      "Moviepy - video ready /Users/dk/project/rl/lib/episode_recorderrun_0/episode114.mp4\n",
      "Moviepy - Building video /Users/dk/project/rl/lib/episode_recorderrun_0/episode115.mp4.\n",
      "Moviepy - Writing video /Users/dk/project/rl/lib/episode_recorderrun_0/episode115.mp4\n",
      "\n"
     ]
    },
    {
     "name": "stderr",
     "output_type": "stream",
     "text": [
      "                                                               \r"
     ]
    },
    {
     "name": "stdout",
     "output_type": "stream",
     "text": [
      "Moviepy - Done !\n",
      "Moviepy - video ready /Users/dk/project/rl/lib/episode_recorderrun_0/episode115.mp4\n",
      "Moviepy - Building video /Users/dk/project/rl/lib/episode_recorderrun_0/episode116.mp4.\n",
      "Moviepy - Writing video /Users/dk/project/rl/lib/episode_recorderrun_0/episode116.mp4\n",
      "\n"
     ]
    },
    {
     "name": "stderr",
     "output_type": "stream",
     "text": [
      "                                                               \r"
     ]
    },
    {
     "name": "stdout",
     "output_type": "stream",
     "text": [
      "Moviepy - Done !\n",
      "Moviepy - video ready /Users/dk/project/rl/lib/episode_recorderrun_0/episode116.mp4\n",
      "Moviepy - Building video /Users/dk/project/rl/lib/episode_recorderrun_0/episode117.mp4.\n",
      "Moviepy - Writing video /Users/dk/project/rl/lib/episode_recorderrun_0/episode117.mp4\n",
      "\n"
     ]
    },
    {
     "name": "stderr",
     "output_type": "stream",
     "text": [
      "                                                               \r"
     ]
    },
    {
     "name": "stdout",
     "output_type": "stream",
     "text": [
      "Moviepy - Done !\n",
      "Moviepy - video ready /Users/dk/project/rl/lib/episode_recorderrun_0/episode117.mp4\n",
      "Moviepy - Building video /Users/dk/project/rl/lib/episode_recorderrun_0/episode118.mp4.\n",
      "Moviepy - Writing video /Users/dk/project/rl/lib/episode_recorderrun_0/episode118.mp4\n",
      "\n"
     ]
    },
    {
     "name": "stderr",
     "output_type": "stream",
     "text": [
      "                                                               \r"
     ]
    },
    {
     "name": "stdout",
     "output_type": "stream",
     "text": [
      "Moviepy - Done !\n",
      "Moviepy - video ready /Users/dk/project/rl/lib/episode_recorderrun_0/episode118.mp4\n",
      "Moviepy - Building video /Users/dk/project/rl/lib/episode_recorderrun_0/episode119.mp4.\n",
      "Moviepy - Writing video /Users/dk/project/rl/lib/episode_recorderrun_0/episode119.mp4\n",
      "\n"
     ]
    },
    {
     "name": "stderr",
     "output_type": "stream",
     "text": [
      "                                                               \r"
     ]
    },
    {
     "name": "stdout",
     "output_type": "stream",
     "text": [
      "Moviepy - Done !\n",
      "Moviepy - video ready /Users/dk/project/rl/lib/episode_recorderrun_0/episode119.mp4\n",
      "Moviepy - Building video /Users/dk/project/rl/lib/episode_recorderrun_0/episode120.mp4.\n",
      "Moviepy - Writing video /Users/dk/project/rl/lib/episode_recorderrun_0/episode120.mp4\n",
      "\n"
     ]
    },
    {
     "name": "stderr",
     "output_type": "stream",
     "text": [
      "                                                               \r"
     ]
    },
    {
     "name": "stdout",
     "output_type": "stream",
     "text": [
      "Moviepy - Done !\n",
      "Moviepy - video ready /Users/dk/project/rl/lib/episode_recorderrun_0/episode120.mp4\n",
      "Moviepy - Building video /Users/dk/project/rl/lib/episode_recorderrun_0/episode121.mp4.\n",
      "Moviepy - Writing video /Users/dk/project/rl/lib/episode_recorderrun_0/episode121.mp4\n",
      "\n"
     ]
    },
    {
     "name": "stderr",
     "output_type": "stream",
     "text": [
      "                                                               \r"
     ]
    },
    {
     "name": "stdout",
     "output_type": "stream",
     "text": [
      "Moviepy - Done !\n",
      "Moviepy - video ready /Users/dk/project/rl/lib/episode_recorderrun_0/episode121.mp4\n",
      "Moviepy - Building video /Users/dk/project/rl/lib/episode_recorderrun_0/episode122.mp4.\n",
      "Moviepy - Writing video /Users/dk/project/rl/lib/episode_recorderrun_0/episode122.mp4\n",
      "\n"
     ]
    },
    {
     "name": "stderr",
     "output_type": "stream",
     "text": [
      "                                                               \r"
     ]
    },
    {
     "name": "stdout",
     "output_type": "stream",
     "text": [
      "Moviepy - Done !\n",
      "Moviepy - video ready /Users/dk/project/rl/lib/episode_recorderrun_0/episode122.mp4\n",
      "Moviepy - Building video /Users/dk/project/rl/lib/episode_recorderrun_0/episode123.mp4.\n",
      "Moviepy - Writing video /Users/dk/project/rl/lib/episode_recorderrun_0/episode123.mp4\n",
      "\n"
     ]
    },
    {
     "name": "stderr",
     "output_type": "stream",
     "text": [
      "                                                               \r"
     ]
    },
    {
     "name": "stdout",
     "output_type": "stream",
     "text": [
      "Moviepy - Done !\n",
      "Moviepy - video ready /Users/dk/project/rl/lib/episode_recorderrun_0/episode123.mp4\n",
      "Moviepy - Building video /Users/dk/project/rl/lib/episode_recorderrun_0/episode124.mp4.\n",
      "Moviepy - Writing video /Users/dk/project/rl/lib/episode_recorderrun_0/episode124.mp4\n",
      "\n"
     ]
    },
    {
     "name": "stderr",
     "output_type": "stream",
     "text": [
      "                                                               \r"
     ]
    },
    {
     "name": "stdout",
     "output_type": "stream",
     "text": [
      "Moviepy - Done !\n",
      "Moviepy - video ready /Users/dk/project/rl/lib/episode_recorderrun_0/episode124.mp4\n",
      "Moviepy - Building video /Users/dk/project/rl/lib/episode_recorderrun_0/episode125.mp4.\n",
      "Moviepy - Writing video /Users/dk/project/rl/lib/episode_recorderrun_0/episode125.mp4\n",
      "\n"
     ]
    },
    {
     "name": "stderr",
     "output_type": "stream",
     "text": [
      "                                                               \r"
     ]
    },
    {
     "name": "stdout",
     "output_type": "stream",
     "text": [
      "Moviepy - Done !\n",
      "Moviepy - video ready /Users/dk/project/rl/lib/episode_recorderrun_0/episode125.mp4\n",
      "Moviepy - Building video /Users/dk/project/rl/lib/episode_recorderrun_0/episode126.mp4.\n",
      "Moviepy - Writing video /Users/dk/project/rl/lib/episode_recorderrun_0/episode126.mp4\n",
      "\n"
     ]
    },
    {
     "name": "stderr",
     "output_type": "stream",
     "text": [
      "                                                               \r"
     ]
    },
    {
     "name": "stdout",
     "output_type": "stream",
     "text": [
      "Moviepy - Done !\n",
      "Moviepy - video ready /Users/dk/project/rl/lib/episode_recorderrun_0/episode126.mp4\n",
      "Moviepy - Building video /Users/dk/project/rl/lib/episode_recorderrun_0/episode127.mp4.\n",
      "Moviepy - Writing video /Users/dk/project/rl/lib/episode_recorderrun_0/episode127.mp4\n",
      "\n"
     ]
    },
    {
     "name": "stderr",
     "output_type": "stream",
     "text": [
      "                                                               \r"
     ]
    },
    {
     "name": "stdout",
     "output_type": "stream",
     "text": [
      "Moviepy - Done !\n",
      "Moviepy - video ready /Users/dk/project/rl/lib/episode_recorderrun_0/episode127.mp4\n",
      "Moviepy - Building video /Users/dk/project/rl/lib/episode_recorderrun_0/episode128.mp4.\n",
      "Moviepy - Writing video /Users/dk/project/rl/lib/episode_recorderrun_0/episode128.mp4\n",
      "\n"
     ]
    },
    {
     "name": "stderr",
     "output_type": "stream",
     "text": [
      "                                                               \r"
     ]
    },
    {
     "name": "stdout",
     "output_type": "stream",
     "text": [
      "Moviepy - Done !\n",
      "Moviepy - video ready /Users/dk/project/rl/lib/episode_recorderrun_0/episode128.mp4\n",
      "Moviepy - Building video /Users/dk/project/rl/lib/episode_recorderrun_0/episode129.mp4.\n",
      "Moviepy - Writing video /Users/dk/project/rl/lib/episode_recorderrun_0/episode129.mp4\n",
      "\n"
     ]
    },
    {
     "name": "stderr",
     "output_type": "stream",
     "text": [
      "                                                               \r"
     ]
    },
    {
     "name": "stdout",
     "output_type": "stream",
     "text": [
      "Moviepy - Done !\n",
      "Moviepy - video ready /Users/dk/project/rl/lib/episode_recorderrun_0/episode129.mp4\n",
      "Moviepy - Building video /Users/dk/project/rl/lib/episode_recorderrun_0/episode130.mp4.\n",
      "Moviepy - Writing video /Users/dk/project/rl/lib/episode_recorderrun_0/episode130.mp4\n",
      "\n"
     ]
    },
    {
     "name": "stderr",
     "output_type": "stream",
     "text": [
      "                                                               \r"
     ]
    },
    {
     "name": "stdout",
     "output_type": "stream",
     "text": [
      "Moviepy - Done !\n",
      "Moviepy - video ready /Users/dk/project/rl/lib/episode_recorderrun_0/episode130.mp4\n",
      "Moviepy - Building video /Users/dk/project/rl/lib/episode_recorderrun_0/episode131.mp4.\n",
      "Moviepy - Writing video /Users/dk/project/rl/lib/episode_recorderrun_0/episode131.mp4\n",
      "\n"
     ]
    },
    {
     "name": "stderr",
     "output_type": "stream",
     "text": [
      "                                                               \r"
     ]
    },
    {
     "name": "stdout",
     "output_type": "stream",
     "text": [
      "Moviepy - Done !\n",
      "Moviepy - video ready /Users/dk/project/rl/lib/episode_recorderrun_0/episode131.mp4\n",
      "Moviepy - Building video /Users/dk/project/rl/lib/episode_recorderrun_0/episode132.mp4.\n",
      "Moviepy - Writing video /Users/dk/project/rl/lib/episode_recorderrun_0/episode132.mp4\n",
      "\n"
     ]
    },
    {
     "name": "stderr",
     "output_type": "stream",
     "text": [
      "                                                               \r"
     ]
    },
    {
     "name": "stdout",
     "output_type": "stream",
     "text": [
      "Moviepy - Done !\n",
      "Moviepy - video ready /Users/dk/project/rl/lib/episode_recorderrun_0/episode132.mp4\n",
      "Moviepy - Building video /Users/dk/project/rl/lib/episode_recorderrun_0/episode133.mp4.\n",
      "Moviepy - Writing video /Users/dk/project/rl/lib/episode_recorderrun_0/episode133.mp4\n",
      "\n"
     ]
    },
    {
     "name": "stderr",
     "output_type": "stream",
     "text": [
      "                                                               \r"
     ]
    },
    {
     "name": "stdout",
     "output_type": "stream",
     "text": [
      "Moviepy - Done !\n",
      "Moviepy - video ready /Users/dk/project/rl/lib/episode_recorderrun_0/episode133.mp4\n",
      "Moviepy - Building video /Users/dk/project/rl/lib/episode_recorderrun_0/episode134.mp4.\n",
      "Moviepy - Writing video /Users/dk/project/rl/lib/episode_recorderrun_0/episode134.mp4\n",
      "\n"
     ]
    },
    {
     "name": "stderr",
     "output_type": "stream",
     "text": [
      "                                                               \r"
     ]
    },
    {
     "name": "stdout",
     "output_type": "stream",
     "text": [
      "Moviepy - Done !\n",
      "Moviepy - video ready /Users/dk/project/rl/lib/episode_recorderrun_0/episode134.mp4\n",
      "Moviepy - Building video /Users/dk/project/rl/lib/episode_recorderrun_0/episode135.mp4.\n",
      "Moviepy - Writing video /Users/dk/project/rl/lib/episode_recorderrun_0/episode135.mp4\n",
      "\n"
     ]
    },
    {
     "name": "stderr",
     "output_type": "stream",
     "text": [
      "                                                               \r"
     ]
    },
    {
     "name": "stdout",
     "output_type": "stream",
     "text": [
      "Moviepy - Done !\n",
      "Moviepy - video ready /Users/dk/project/rl/lib/episode_recorderrun_0/episode135.mp4\n",
      "Moviepy - Building video /Users/dk/project/rl/lib/episode_recorderrun_0/episode136.mp4.\n",
      "Moviepy - Writing video /Users/dk/project/rl/lib/episode_recorderrun_0/episode136.mp4\n",
      "\n"
     ]
    },
    {
     "name": "stderr",
     "output_type": "stream",
     "text": [
      "                                                               \r"
     ]
    },
    {
     "name": "stdout",
     "output_type": "stream",
     "text": [
      "Moviepy - Done !\n",
      "Moviepy - video ready /Users/dk/project/rl/lib/episode_recorderrun_0/episode136.mp4\n",
      "Moviepy - Building video /Users/dk/project/rl/lib/episode_recorderrun_0/episode137.mp4.\n",
      "Moviepy - Writing video /Users/dk/project/rl/lib/episode_recorderrun_0/episode137.mp4\n",
      "\n"
     ]
    },
    {
     "name": "stderr",
     "output_type": "stream",
     "text": [
      "                                                               \r"
     ]
    },
    {
     "name": "stdout",
     "output_type": "stream",
     "text": [
      "Moviepy - Done !\n",
      "Moviepy - video ready /Users/dk/project/rl/lib/episode_recorderrun_0/episode137.mp4\n",
      "Moviepy - Building video /Users/dk/project/rl/lib/episode_recorderrun_0/episode138.mp4.\n",
      "Moviepy - Writing video /Users/dk/project/rl/lib/episode_recorderrun_0/episode138.mp4\n",
      "\n"
     ]
    },
    {
     "name": "stderr",
     "output_type": "stream",
     "text": [
      "                                                               \r"
     ]
    },
    {
     "name": "stdout",
     "output_type": "stream",
     "text": [
      "Moviepy - Done !\n",
      "Moviepy - video ready /Users/dk/project/rl/lib/episode_recorderrun_0/episode138.mp4\n",
      "Moviepy - Building video /Users/dk/project/rl/lib/episode_recorderrun_0/episode139.mp4.\n",
      "Moviepy - Writing video /Users/dk/project/rl/lib/episode_recorderrun_0/episode139.mp4\n",
      "\n"
     ]
    },
    {
     "name": "stderr",
     "output_type": "stream",
     "text": [
      "                                                               \r"
     ]
    },
    {
     "name": "stdout",
     "output_type": "stream",
     "text": [
      "Moviepy - Done !\n",
      "Moviepy - video ready /Users/dk/project/rl/lib/episode_recorderrun_0/episode139.mp4\n",
      "Moviepy - Building video /Users/dk/project/rl/lib/episode_recorderrun_0/episode140.mp4.\n",
      "Moviepy - Writing video /Users/dk/project/rl/lib/episode_recorderrun_0/episode140.mp4\n",
      "\n"
     ]
    },
    {
     "name": "stderr",
     "output_type": "stream",
     "text": [
      "                                                               \r"
     ]
    },
    {
     "name": "stdout",
     "output_type": "stream",
     "text": [
      "Moviepy - Done !\n",
      "Moviepy - video ready /Users/dk/project/rl/lib/episode_recorderrun_0/episode140.mp4\n",
      "Moviepy - Building video /Users/dk/project/rl/lib/episode_recorderrun_0/episode141.mp4.\n",
      "Moviepy - Writing video /Users/dk/project/rl/lib/episode_recorderrun_0/episode141.mp4\n",
      "\n"
     ]
    },
    {
     "name": "stderr",
     "output_type": "stream",
     "text": [
      "                                                               \r"
     ]
    },
    {
     "name": "stdout",
     "output_type": "stream",
     "text": [
      "Moviepy - Done !\n",
      "Moviepy - video ready /Users/dk/project/rl/lib/episode_recorderrun_0/episode141.mp4\n",
      "Moviepy - Building video /Users/dk/project/rl/lib/episode_recorderrun_0/episode142.mp4.\n",
      "Moviepy - Writing video /Users/dk/project/rl/lib/episode_recorderrun_0/episode142.mp4\n",
      "\n"
     ]
    },
    {
     "name": "stderr",
     "output_type": "stream",
     "text": [
      "                                                               \r"
     ]
    },
    {
     "name": "stdout",
     "output_type": "stream",
     "text": [
      "Moviepy - Done !\n",
      "Moviepy - video ready /Users/dk/project/rl/lib/episode_recorderrun_0/episode142.mp4\n",
      "Moviepy - Building video /Users/dk/project/rl/lib/episode_recorderrun_0/episode143.mp4.\n",
      "Moviepy - Writing video /Users/dk/project/rl/lib/episode_recorderrun_0/episode143.mp4\n",
      "\n"
     ]
    },
    {
     "name": "stderr",
     "output_type": "stream",
     "text": [
      "                                                               \r"
     ]
    },
    {
     "name": "stdout",
     "output_type": "stream",
     "text": [
      "Moviepy - Done !\n",
      "Moviepy - video ready /Users/dk/project/rl/lib/episode_recorderrun_0/episode143.mp4\n",
      "Moviepy - Building video /Users/dk/project/rl/lib/episode_recorderrun_0/episode144.mp4.\n",
      "Moviepy - Writing video /Users/dk/project/rl/lib/episode_recorderrun_0/episode144.mp4\n",
      "\n"
     ]
    },
    {
     "name": "stderr",
     "output_type": "stream",
     "text": [
      "                                                               \r"
     ]
    },
    {
     "name": "stdout",
     "output_type": "stream",
     "text": [
      "Moviepy - Done !\n",
      "Moviepy - video ready /Users/dk/project/rl/lib/episode_recorderrun_0/episode144.mp4\n",
      "Moviepy - Building video /Users/dk/project/rl/lib/episode_recorderrun_0/episode145.mp4.\n",
      "Moviepy - Writing video /Users/dk/project/rl/lib/episode_recorderrun_0/episode145.mp4\n",
      "\n"
     ]
    },
    {
     "name": "stderr",
     "output_type": "stream",
     "text": [
      "                                                               \r"
     ]
    },
    {
     "name": "stdout",
     "output_type": "stream",
     "text": [
      "Moviepy - Done !\n",
      "Moviepy - video ready /Users/dk/project/rl/lib/episode_recorderrun_0/episode145.mp4\n",
      "Moviepy - Building video /Users/dk/project/rl/lib/episode_recorderrun_0/episode146.mp4.\n",
      "Moviepy - Writing video /Users/dk/project/rl/lib/episode_recorderrun_0/episode146.mp4\n",
      "\n"
     ]
    },
    {
     "name": "stderr",
     "output_type": "stream",
     "text": [
      "                                                               \r"
     ]
    },
    {
     "name": "stdout",
     "output_type": "stream",
     "text": [
      "Moviepy - Done !\n",
      "Moviepy - video ready /Users/dk/project/rl/lib/episode_recorderrun_0/episode146.mp4\n",
      "Moviepy - Building video /Users/dk/project/rl/lib/episode_recorderrun_0/episode147.mp4.\n",
      "Moviepy - Writing video /Users/dk/project/rl/lib/episode_recorderrun_0/episode147.mp4\n",
      "\n"
     ]
    },
    {
     "name": "stderr",
     "output_type": "stream",
     "text": [
      "                                                               \r"
     ]
    },
    {
     "name": "stdout",
     "output_type": "stream",
     "text": [
      "Moviepy - Done !\n",
      "Moviepy - video ready /Users/dk/project/rl/lib/episode_recorderrun_0/episode147.mp4\n",
      "Moviepy - Building video /Users/dk/project/rl/lib/episode_recorderrun_0/episode148.mp4.\n",
      "Moviepy - Writing video /Users/dk/project/rl/lib/episode_recorderrun_0/episode148.mp4\n",
      "\n"
     ]
    },
    {
     "name": "stderr",
     "output_type": "stream",
     "text": [
      "                                                               \r"
     ]
    },
    {
     "name": "stdout",
     "output_type": "stream",
     "text": [
      "Moviepy - Done !\n",
      "Moviepy - video ready /Users/dk/project/rl/lib/episode_recorderrun_0/episode148.mp4\n",
      "Moviepy - Building video /Users/dk/project/rl/lib/episode_recorderrun_0/episode149.mp4.\n",
      "Moviepy - Writing video /Users/dk/project/rl/lib/episode_recorderrun_0/episode149.mp4\n",
      "\n"
     ]
    },
    {
     "name": "stderr",
     "output_type": "stream",
     "text": [
      "                                                               \r"
     ]
    },
    {
     "name": "stdout",
     "output_type": "stream",
     "text": [
      "Moviepy - Done !\n",
      "Moviepy - video ready /Users/dk/project/rl/lib/episode_recorderrun_0/episode149.mp4\n",
      "Moviepy - Building video /Users/dk/project/rl/lib/episode_recorderrun_0/episode150.mp4.\n",
      "Moviepy - Writing video /Users/dk/project/rl/lib/episode_recorderrun_0/episode150.mp4\n",
      "\n"
     ]
    },
    {
     "name": "stderr",
     "output_type": "stream",
     "text": [
      "                                                               \r"
     ]
    },
    {
     "name": "stdout",
     "output_type": "stream",
     "text": [
      "Moviepy - Done !\n",
      "Moviepy - video ready /Users/dk/project/rl/lib/episode_recorderrun_0/episode150.mp4\n",
      "Moviepy - Building video /Users/dk/project/rl/lib/episode_recorderrun_0/episode151.mp4.\n",
      "Moviepy - Writing video /Users/dk/project/rl/lib/episode_recorderrun_0/episode151.mp4\n",
      "\n"
     ]
    },
    {
     "name": "stderr",
     "output_type": "stream",
     "text": [
      "                                                               \r"
     ]
    },
    {
     "name": "stdout",
     "output_type": "stream",
     "text": [
      "Moviepy - Done !\n",
      "Moviepy - video ready /Users/dk/project/rl/lib/episode_recorderrun_0/episode151.mp4\n",
      "Moviepy - Building video /Users/dk/project/rl/lib/episode_recorderrun_0/episode152.mp4.\n",
      "Moviepy - Writing video /Users/dk/project/rl/lib/episode_recorderrun_0/episode152.mp4\n",
      "\n"
     ]
    },
    {
     "name": "stderr",
     "output_type": "stream",
     "text": [
      "                                                               \r"
     ]
    },
    {
     "name": "stdout",
     "output_type": "stream",
     "text": [
      "Moviepy - Done !\n",
      "Moviepy - video ready /Users/dk/project/rl/lib/episode_recorderrun_0/episode152.mp4\n",
      "Moviepy - Building video /Users/dk/project/rl/lib/episode_recorderrun_0/episode153.mp4.\n",
      "Moviepy - Writing video /Users/dk/project/rl/lib/episode_recorderrun_0/episode153.mp4\n",
      "\n"
     ]
    },
    {
     "name": "stderr",
     "output_type": "stream",
     "text": [
      "                                                               \r"
     ]
    },
    {
     "name": "stdout",
     "output_type": "stream",
     "text": [
      "Moviepy - Done !\n",
      "Moviepy - video ready /Users/dk/project/rl/lib/episode_recorderrun_0/episode153.mp4\n",
      "Moviepy - Building video /Users/dk/project/rl/lib/episode_recorderrun_0/episode154.mp4.\n",
      "Moviepy - Writing video /Users/dk/project/rl/lib/episode_recorderrun_0/episode154.mp4\n",
      "\n"
     ]
    },
    {
     "name": "stderr",
     "output_type": "stream",
     "text": [
      "                                                               \r"
     ]
    },
    {
     "name": "stdout",
     "output_type": "stream",
     "text": [
      "Moviepy - Done !\n",
      "Moviepy - video ready /Users/dk/project/rl/lib/episode_recorderrun_0/episode154.mp4\n",
      "Moviepy - Building video /Users/dk/project/rl/lib/episode_recorderrun_0/episode155.mp4.\n",
      "Moviepy - Writing video /Users/dk/project/rl/lib/episode_recorderrun_0/episode155.mp4\n",
      "\n"
     ]
    },
    {
     "name": "stderr",
     "output_type": "stream",
     "text": [
      "                                                               \r"
     ]
    },
    {
     "name": "stdout",
     "output_type": "stream",
     "text": [
      "Moviepy - Done !\n",
      "Moviepy - video ready /Users/dk/project/rl/lib/episode_recorderrun_0/episode155.mp4\n",
      "Moviepy - Building video /Users/dk/project/rl/lib/episode_recorderrun_0/episode156.mp4.\n",
      "Moviepy - Writing video /Users/dk/project/rl/lib/episode_recorderrun_0/episode156.mp4\n",
      "\n"
     ]
    },
    {
     "name": "stderr",
     "output_type": "stream",
     "text": [
      "                                                               \r"
     ]
    },
    {
     "name": "stdout",
     "output_type": "stream",
     "text": [
      "Moviepy - Done !\n",
      "Moviepy - video ready /Users/dk/project/rl/lib/episode_recorderrun_0/episode156.mp4\n",
      "Moviepy - Building video /Users/dk/project/rl/lib/episode_recorderrun_0/episode157.mp4.\n",
      "Moviepy - Writing video /Users/dk/project/rl/lib/episode_recorderrun_0/episode157.mp4\n",
      "\n"
     ]
    },
    {
     "name": "stderr",
     "output_type": "stream",
     "text": [
      "                                                               \r"
     ]
    },
    {
     "name": "stdout",
     "output_type": "stream",
     "text": [
      "Moviepy - Done !\n",
      "Moviepy - video ready /Users/dk/project/rl/lib/episode_recorderrun_0/episode157.mp4\n",
      "Moviepy - Building video /Users/dk/project/rl/lib/episode_recorderrun_0/episode158.mp4.\n",
      "Moviepy - Writing video /Users/dk/project/rl/lib/episode_recorderrun_0/episode158.mp4\n",
      "\n"
     ]
    },
    {
     "name": "stderr",
     "output_type": "stream",
     "text": [
      "                                                               \r"
     ]
    },
    {
     "name": "stdout",
     "output_type": "stream",
     "text": [
      "Moviepy - Done !\n",
      "Moviepy - video ready /Users/dk/project/rl/lib/episode_recorderrun_0/episode158.mp4\n",
      "Moviepy - Building video /Users/dk/project/rl/lib/episode_recorderrun_0/episode159.mp4.\n",
      "Moviepy - Writing video /Users/dk/project/rl/lib/episode_recorderrun_0/episode159.mp4\n",
      "\n"
     ]
    },
    {
     "name": "stderr",
     "output_type": "stream",
     "text": [
      "                                                               \r"
     ]
    },
    {
     "name": "stdout",
     "output_type": "stream",
     "text": [
      "Moviepy - Done !\n",
      "Moviepy - video ready /Users/dk/project/rl/lib/episode_recorderrun_0/episode159.mp4\n",
      "Moviepy - Building video /Users/dk/project/rl/lib/episode_recorderrun_0/episode160.mp4.\n",
      "Moviepy - Writing video /Users/dk/project/rl/lib/episode_recorderrun_0/episode160.mp4\n",
      "\n"
     ]
    },
    {
     "name": "stderr",
     "output_type": "stream",
     "text": [
      "                                                               \r"
     ]
    },
    {
     "name": "stdout",
     "output_type": "stream",
     "text": [
      "Moviepy - Done !\n",
      "Moviepy - video ready /Users/dk/project/rl/lib/episode_recorderrun_0/episode160.mp4\n",
      "Moviepy - Building video /Users/dk/project/rl/lib/episode_recorderrun_0/episode161.mp4.\n",
      "Moviepy - Writing video /Users/dk/project/rl/lib/episode_recorderrun_0/episode161.mp4\n",
      "\n"
     ]
    },
    {
     "name": "stderr",
     "output_type": "stream",
     "text": [
      "                                                               \r"
     ]
    },
    {
     "name": "stdout",
     "output_type": "stream",
     "text": [
      "Moviepy - Done !\n",
      "Moviepy - video ready /Users/dk/project/rl/lib/episode_recorderrun_0/episode161.mp4\n",
      "Moviepy - Building video /Users/dk/project/rl/lib/episode_recorderrun_0/episode162.mp4.\n",
      "Moviepy - Writing video /Users/dk/project/rl/lib/episode_recorderrun_0/episode162.mp4\n",
      "\n"
     ]
    },
    {
     "name": "stderr",
     "output_type": "stream",
     "text": [
      "                                                               \r"
     ]
    },
    {
     "name": "stdout",
     "output_type": "stream",
     "text": [
      "Moviepy - Done !\n",
      "Moviepy - video ready /Users/dk/project/rl/lib/episode_recorderrun_0/episode162.mp4\n",
      "Moviepy - Building video /Users/dk/project/rl/lib/episode_recorderrun_0/episode163.mp4.\n",
      "Moviepy - Writing video /Users/dk/project/rl/lib/episode_recorderrun_0/episode163.mp4\n",
      "\n"
     ]
    },
    {
     "name": "stderr",
     "output_type": "stream",
     "text": [
      "                                                               \r"
     ]
    },
    {
     "name": "stdout",
     "output_type": "stream",
     "text": [
      "Moviepy - Done !\n",
      "Moviepy - video ready /Users/dk/project/rl/lib/episode_recorderrun_0/episode163.mp4\n",
      "Moviepy - Building video /Users/dk/project/rl/lib/episode_recorderrun_0/episode164.mp4.\n",
      "Moviepy - Writing video /Users/dk/project/rl/lib/episode_recorderrun_0/episode164.mp4\n",
      "\n"
     ]
    },
    {
     "name": "stderr",
     "output_type": "stream",
     "text": [
      "                                                               \r"
     ]
    },
    {
     "name": "stdout",
     "output_type": "stream",
     "text": [
      "Moviepy - Done !\n",
      "Moviepy - video ready /Users/dk/project/rl/lib/episode_recorderrun_0/episode164.mp4\n",
      "Moviepy - Building video /Users/dk/project/rl/lib/episode_recorderrun_0/episode165.mp4.\n",
      "Moviepy - Writing video /Users/dk/project/rl/lib/episode_recorderrun_0/episode165.mp4\n",
      "\n"
     ]
    },
    {
     "name": "stderr",
     "output_type": "stream",
     "text": [
      "                                                               \r"
     ]
    },
    {
     "name": "stdout",
     "output_type": "stream",
     "text": [
      "Moviepy - Done !\n",
      "Moviepy - video ready /Users/dk/project/rl/lib/episode_recorderrun_0/episode165.mp4\n",
      "Moviepy - Building video /Users/dk/project/rl/lib/episode_recorderrun_0/episode166.mp4.\n",
      "Moviepy - Writing video /Users/dk/project/rl/lib/episode_recorderrun_0/episode166.mp4\n",
      "\n"
     ]
    },
    {
     "name": "stderr",
     "output_type": "stream",
     "text": [
      "                                                               \r"
     ]
    },
    {
     "name": "stdout",
     "output_type": "stream",
     "text": [
      "Moviepy - Done !\n",
      "Moviepy - video ready /Users/dk/project/rl/lib/episode_recorderrun_0/episode166.mp4\n",
      "Moviepy - Building video /Users/dk/project/rl/lib/episode_recorderrun_0/episode167.mp4.\n",
      "Moviepy - Writing video /Users/dk/project/rl/lib/episode_recorderrun_0/episode167.mp4\n",
      "\n"
     ]
    },
    {
     "name": "stderr",
     "output_type": "stream",
     "text": [
      "                                                               \r"
     ]
    },
    {
     "name": "stdout",
     "output_type": "stream",
     "text": [
      "Moviepy - Done !\n",
      "Moviepy - video ready /Users/dk/project/rl/lib/episode_recorderrun_0/episode167.mp4\n",
      "Moviepy - Building video /Users/dk/project/rl/lib/episode_recorderrun_0/episode168.mp4.\n",
      "Moviepy - Writing video /Users/dk/project/rl/lib/episode_recorderrun_0/episode168.mp4\n",
      "\n"
     ]
    },
    {
     "name": "stderr",
     "output_type": "stream",
     "text": [
      "                                                               \r"
     ]
    },
    {
     "name": "stdout",
     "output_type": "stream",
     "text": [
      "Moviepy - Done !\n",
      "Moviepy - video ready /Users/dk/project/rl/lib/episode_recorderrun_0/episode168.mp4\n",
      "Moviepy - Building video /Users/dk/project/rl/lib/episode_recorderrun_0/episode169.mp4.\n",
      "Moviepy - Writing video /Users/dk/project/rl/lib/episode_recorderrun_0/episode169.mp4\n",
      "\n"
     ]
    },
    {
     "name": "stderr",
     "output_type": "stream",
     "text": [
      "                                                               \r"
     ]
    },
    {
     "name": "stdout",
     "output_type": "stream",
     "text": [
      "Moviepy - Done !\n",
      "Moviepy - video ready /Users/dk/project/rl/lib/episode_recorderrun_0/episode169.mp4\n",
      "Moviepy - Building video /Users/dk/project/rl/lib/episode_recorderrun_0/episode170.mp4.\n",
      "Moviepy - Writing video /Users/dk/project/rl/lib/episode_recorderrun_0/episode170.mp4\n",
      "\n"
     ]
    },
    {
     "name": "stderr",
     "output_type": "stream",
     "text": [
      "                                                               \r"
     ]
    },
    {
     "name": "stdout",
     "output_type": "stream",
     "text": [
      "Moviepy - Done !\n",
      "Moviepy - video ready /Users/dk/project/rl/lib/episode_recorderrun_0/episode170.mp4\n",
      "Moviepy - Building video /Users/dk/project/rl/lib/episode_recorderrun_0/episode171.mp4.\n",
      "Moviepy - Writing video /Users/dk/project/rl/lib/episode_recorderrun_0/episode171.mp4\n",
      "\n"
     ]
    },
    {
     "name": "stderr",
     "output_type": "stream",
     "text": [
      "                                                               \r"
     ]
    },
    {
     "name": "stdout",
     "output_type": "stream",
     "text": [
      "Moviepy - Done !\n",
      "Moviepy - video ready /Users/dk/project/rl/lib/episode_recorderrun_0/episode171.mp4\n",
      "Moviepy - Building video /Users/dk/project/rl/lib/episode_recorderrun_0/episode172.mp4.\n",
      "Moviepy - Writing video /Users/dk/project/rl/lib/episode_recorderrun_0/episode172.mp4\n",
      "\n"
     ]
    },
    {
     "name": "stderr",
     "output_type": "stream",
     "text": [
      "                                                               \r"
     ]
    },
    {
     "name": "stdout",
     "output_type": "stream",
     "text": [
      "Moviepy - Done !\n",
      "Moviepy - video ready /Users/dk/project/rl/lib/episode_recorderrun_0/episode172.mp4\n",
      "Moviepy - Building video /Users/dk/project/rl/lib/episode_recorderrun_0/episode173.mp4.\n",
      "Moviepy - Writing video /Users/dk/project/rl/lib/episode_recorderrun_0/episode173.mp4\n",
      "\n"
     ]
    },
    {
     "name": "stderr",
     "output_type": "stream",
     "text": [
      "                                                               \r"
     ]
    },
    {
     "name": "stdout",
     "output_type": "stream",
     "text": [
      "Moviepy - Done !\n",
      "Moviepy - video ready /Users/dk/project/rl/lib/episode_recorderrun_0/episode173.mp4\n",
      "Moviepy - Building video /Users/dk/project/rl/lib/episode_recorderrun_0/episode174.mp4.\n",
      "Moviepy - Writing video /Users/dk/project/rl/lib/episode_recorderrun_0/episode174.mp4\n",
      "\n"
     ]
    },
    {
     "name": "stderr",
     "output_type": "stream",
     "text": [
      "                                                               \r"
     ]
    },
    {
     "name": "stdout",
     "output_type": "stream",
     "text": [
      "Moviepy - Done !\n",
      "Moviepy - video ready /Users/dk/project/rl/lib/episode_recorderrun_0/episode174.mp4\n",
      "Moviepy - Building video /Users/dk/project/rl/lib/episode_recorderrun_0/episode175.mp4.\n",
      "Moviepy - Writing video /Users/dk/project/rl/lib/episode_recorderrun_0/episode175.mp4\n",
      "\n"
     ]
    },
    {
     "name": "stderr",
     "output_type": "stream",
     "text": [
      "                                                               \r"
     ]
    },
    {
     "name": "stdout",
     "output_type": "stream",
     "text": [
      "Moviepy - Done !\n",
      "Moviepy - video ready /Users/dk/project/rl/lib/episode_recorderrun_0/episode175.mp4\n",
      "Moviepy - Building video /Users/dk/project/rl/lib/episode_recorderrun_0/episode176.mp4.\n",
      "Moviepy - Writing video /Users/dk/project/rl/lib/episode_recorderrun_0/episode176.mp4\n",
      "\n"
     ]
    },
    {
     "name": "stderr",
     "output_type": "stream",
     "text": [
      "                                                               \r"
     ]
    },
    {
     "name": "stdout",
     "output_type": "stream",
     "text": [
      "Moviepy - Done !\n",
      "Moviepy - video ready /Users/dk/project/rl/lib/episode_recorderrun_0/episode176.mp4\n",
      "Moviepy - Building video /Users/dk/project/rl/lib/episode_recorderrun_0/episode177.mp4.\n",
      "Moviepy - Writing video /Users/dk/project/rl/lib/episode_recorderrun_0/episode177.mp4\n",
      "\n"
     ]
    },
    {
     "name": "stderr",
     "output_type": "stream",
     "text": [
      "                                                               \r"
     ]
    },
    {
     "name": "stdout",
     "output_type": "stream",
     "text": [
      "Moviepy - Done !\n",
      "Moviepy - video ready /Users/dk/project/rl/lib/episode_recorderrun_0/episode177.mp4\n",
      "Moviepy - Building video /Users/dk/project/rl/lib/episode_recorderrun_0/episode178.mp4.\n",
      "Moviepy - Writing video /Users/dk/project/rl/lib/episode_recorderrun_0/episode178.mp4\n",
      "\n"
     ]
    },
    {
     "name": "stderr",
     "output_type": "stream",
     "text": [
      "                                                               \r"
     ]
    },
    {
     "name": "stdout",
     "output_type": "stream",
     "text": [
      "Moviepy - Done !\n",
      "Moviepy - video ready /Users/dk/project/rl/lib/episode_recorderrun_0/episode178.mp4\n",
      "Moviepy - Building video /Users/dk/project/rl/lib/episode_recorderrun_0/episode179.mp4.\n",
      "Moviepy - Writing video /Users/dk/project/rl/lib/episode_recorderrun_0/episode179.mp4\n",
      "\n"
     ]
    },
    {
     "name": "stderr",
     "output_type": "stream",
     "text": [
      "                                                               \r"
     ]
    },
    {
     "name": "stdout",
     "output_type": "stream",
     "text": [
      "Moviepy - Done !\n",
      "Moviepy - video ready /Users/dk/project/rl/lib/episode_recorderrun_0/episode179.mp4\n",
      "Moviepy - Building video /Users/dk/project/rl/lib/episode_recorderrun_0/episode180.mp4.\n",
      "Moviepy - Writing video /Users/dk/project/rl/lib/episode_recorderrun_0/episode180.mp4\n",
      "\n"
     ]
    },
    {
     "name": "stderr",
     "output_type": "stream",
     "text": [
      "                                                               \r"
     ]
    },
    {
     "name": "stdout",
     "output_type": "stream",
     "text": [
      "Moviepy - Done !\n",
      "Moviepy - video ready /Users/dk/project/rl/lib/episode_recorderrun_0/episode180.mp4\n",
      "Moviepy - Building video /Users/dk/project/rl/lib/episode_recorderrun_0/episode181.mp4.\n",
      "Moviepy - Writing video /Users/dk/project/rl/lib/episode_recorderrun_0/episode181.mp4\n",
      "\n"
     ]
    },
    {
     "name": "stderr",
     "output_type": "stream",
     "text": [
      "                                                               \r"
     ]
    },
    {
     "name": "stdout",
     "output_type": "stream",
     "text": [
      "Moviepy - Done !\n",
      "Moviepy - video ready /Users/dk/project/rl/lib/episode_recorderrun_0/episode181.mp4\n",
      "Moviepy - Building video /Users/dk/project/rl/lib/episode_recorderrun_0/episode182.mp4.\n",
      "Moviepy - Writing video /Users/dk/project/rl/lib/episode_recorderrun_0/episode182.mp4\n",
      "\n"
     ]
    },
    {
     "name": "stderr",
     "output_type": "stream",
     "text": [
      "                                                               \r"
     ]
    },
    {
     "name": "stdout",
     "output_type": "stream",
     "text": [
      "Moviepy - Done !\n",
      "Moviepy - video ready /Users/dk/project/rl/lib/episode_recorderrun_0/episode182.mp4\n",
      "Moviepy - Building video /Users/dk/project/rl/lib/episode_recorderrun_0/episode183.mp4.\n",
      "Moviepy - Writing video /Users/dk/project/rl/lib/episode_recorderrun_0/episode183.mp4\n",
      "\n"
     ]
    },
    {
     "name": "stderr",
     "output_type": "stream",
     "text": [
      "                                                               \r"
     ]
    },
    {
     "name": "stdout",
     "output_type": "stream",
     "text": [
      "Moviepy - Done !\n",
      "Moviepy - video ready /Users/dk/project/rl/lib/episode_recorderrun_0/episode183.mp4\n",
      "Moviepy - Building video /Users/dk/project/rl/lib/episode_recorderrun_0/episode184.mp4.\n",
      "Moviepy - Writing video /Users/dk/project/rl/lib/episode_recorderrun_0/episode184.mp4\n",
      "\n"
     ]
    },
    {
     "name": "stderr",
     "output_type": "stream",
     "text": [
      "                                                               \r"
     ]
    },
    {
     "name": "stdout",
     "output_type": "stream",
     "text": [
      "Moviepy - Done !\n",
      "Moviepy - video ready /Users/dk/project/rl/lib/episode_recorderrun_0/episode184.mp4\n",
      "Moviepy - Building video /Users/dk/project/rl/lib/episode_recorderrun_0/episode185.mp4.\n",
      "Moviepy - Writing video /Users/dk/project/rl/lib/episode_recorderrun_0/episode185.mp4\n",
      "\n"
     ]
    },
    {
     "name": "stderr",
     "output_type": "stream",
     "text": [
      "                                                               \r"
     ]
    },
    {
     "name": "stdout",
     "output_type": "stream",
     "text": [
      "Moviepy - Done !\n",
      "Moviepy - video ready /Users/dk/project/rl/lib/episode_recorderrun_0/episode185.mp4\n",
      "Moviepy - Building video /Users/dk/project/rl/lib/episode_recorderrun_0/episode186.mp4.\n",
      "Moviepy - Writing video /Users/dk/project/rl/lib/episode_recorderrun_0/episode186.mp4\n",
      "\n"
     ]
    },
    {
     "name": "stderr",
     "output_type": "stream",
     "text": [
      "                                                               \r"
     ]
    },
    {
     "name": "stdout",
     "output_type": "stream",
     "text": [
      "Moviepy - Done !\n",
      "Moviepy - video ready /Users/dk/project/rl/lib/episode_recorderrun_0/episode186.mp4\n",
      "Moviepy - Building video /Users/dk/project/rl/lib/episode_recorderrun_0/episode187.mp4.\n",
      "Moviepy - Writing video /Users/dk/project/rl/lib/episode_recorderrun_0/episode187.mp4\n",
      "\n"
     ]
    },
    {
     "name": "stderr",
     "output_type": "stream",
     "text": [
      "                                                               \r"
     ]
    },
    {
     "name": "stdout",
     "output_type": "stream",
     "text": [
      "Moviepy - Done !\n",
      "Moviepy - video ready /Users/dk/project/rl/lib/episode_recorderrun_0/episode187.mp4\n",
      "Moviepy - Building video /Users/dk/project/rl/lib/episode_recorderrun_0/episode188.mp4.\n",
      "Moviepy - Writing video /Users/dk/project/rl/lib/episode_recorderrun_0/episode188.mp4\n",
      "\n"
     ]
    },
    {
     "name": "stderr",
     "output_type": "stream",
     "text": [
      "                                                               \r"
     ]
    },
    {
     "name": "stdout",
     "output_type": "stream",
     "text": [
      "Moviepy - Done !\n",
      "Moviepy - video ready /Users/dk/project/rl/lib/episode_recorderrun_0/episode188.mp4\n",
      "Moviepy - Building video /Users/dk/project/rl/lib/episode_recorderrun_0/episode189.mp4.\n",
      "Moviepy - Writing video /Users/dk/project/rl/lib/episode_recorderrun_0/episode189.mp4\n",
      "\n"
     ]
    },
    {
     "name": "stderr",
     "output_type": "stream",
     "text": [
      "                                                               \r"
     ]
    },
    {
     "name": "stdout",
     "output_type": "stream",
     "text": [
      "Moviepy - Done !\n",
      "Moviepy - video ready /Users/dk/project/rl/lib/episode_recorderrun_0/episode189.mp4\n",
      "Moviepy - Building video /Users/dk/project/rl/lib/episode_recorderrun_0/episode190.mp4.\n",
      "Moviepy - Writing video /Users/dk/project/rl/lib/episode_recorderrun_0/episode190.mp4\n",
      "\n"
     ]
    },
    {
     "name": "stderr",
     "output_type": "stream",
     "text": [
      "                                                               \r"
     ]
    },
    {
     "name": "stdout",
     "output_type": "stream",
     "text": [
      "Moviepy - Done !\n",
      "Moviepy - video ready /Users/dk/project/rl/lib/episode_recorderrun_0/episode190.mp4\n",
      "Moviepy - Building video /Users/dk/project/rl/lib/episode_recorderrun_0/episode191.mp4.\n",
      "Moviepy - Writing video /Users/dk/project/rl/lib/episode_recorderrun_0/episode191.mp4\n",
      "\n"
     ]
    },
    {
     "name": "stderr",
     "output_type": "stream",
     "text": [
      "                                                               \r"
     ]
    },
    {
     "name": "stdout",
     "output_type": "stream",
     "text": [
      "Moviepy - Done !\n",
      "Moviepy - video ready /Users/dk/project/rl/lib/episode_recorderrun_0/episode191.mp4\n",
      "Moviepy - Building video /Users/dk/project/rl/lib/episode_recorderrun_0/episode192.mp4.\n",
      "Moviepy - Writing video /Users/dk/project/rl/lib/episode_recorderrun_0/episode192.mp4\n",
      "\n"
     ]
    },
    {
     "name": "stderr",
     "output_type": "stream",
     "text": [
      "                                                               \r"
     ]
    },
    {
     "name": "stdout",
     "output_type": "stream",
     "text": [
      "Moviepy - Done !\n",
      "Moviepy - video ready /Users/dk/project/rl/lib/episode_recorderrun_0/episode192.mp4\n",
      "Moviepy - Building video /Users/dk/project/rl/lib/episode_recorderrun_0/episode193.mp4.\n",
      "Moviepy - Writing video /Users/dk/project/rl/lib/episode_recorderrun_0/episode193.mp4\n",
      "\n"
     ]
    },
    {
     "name": "stderr",
     "output_type": "stream",
     "text": [
      "                                                               \r"
     ]
    },
    {
     "name": "stdout",
     "output_type": "stream",
     "text": [
      "Moviepy - Done !\n",
      "Moviepy - video ready /Users/dk/project/rl/lib/episode_recorderrun_0/episode193.mp4\n",
      "Moviepy - Building video /Users/dk/project/rl/lib/episode_recorderrun_0/episode194.mp4.\n",
      "Moviepy - Writing video /Users/dk/project/rl/lib/episode_recorderrun_0/episode194.mp4\n",
      "\n"
     ]
    },
    {
     "name": "stderr",
     "output_type": "stream",
     "text": [
      "                                                               \r"
     ]
    },
    {
     "name": "stdout",
     "output_type": "stream",
     "text": [
      "Moviepy - Done !\n",
      "Moviepy - video ready /Users/dk/project/rl/lib/episode_recorderrun_0/episode194.mp4\n",
      "Moviepy - Building video /Users/dk/project/rl/lib/episode_recorderrun_0/episode195.mp4.\n",
      "Moviepy - Writing video /Users/dk/project/rl/lib/episode_recorderrun_0/episode195.mp4\n",
      "\n"
     ]
    },
    {
     "name": "stderr",
     "output_type": "stream",
     "text": [
      "                                                               \r"
     ]
    },
    {
     "name": "stdout",
     "output_type": "stream",
     "text": [
      "Moviepy - Done !\n",
      "Moviepy - video ready /Users/dk/project/rl/lib/episode_recorderrun_0/episode195.mp4\n",
      "Moviepy - Building video /Users/dk/project/rl/lib/episode_recorderrun_0/episode196.mp4.\n",
      "Moviepy - Writing video /Users/dk/project/rl/lib/episode_recorderrun_0/episode196.mp4\n",
      "\n"
     ]
    },
    {
     "name": "stderr",
     "output_type": "stream",
     "text": [
      "                                                               \r"
     ]
    },
    {
     "name": "stdout",
     "output_type": "stream",
     "text": [
      "Moviepy - Done !\n",
      "Moviepy - video ready /Users/dk/project/rl/lib/episode_recorderrun_0/episode196.mp4\n",
      "Moviepy - Building video /Users/dk/project/rl/lib/episode_recorderrun_0/episode197.mp4.\n",
      "Moviepy - Writing video /Users/dk/project/rl/lib/episode_recorderrun_0/episode197.mp4\n",
      "\n"
     ]
    },
    {
     "name": "stderr",
     "output_type": "stream",
     "text": [
      "                                                               \r"
     ]
    },
    {
     "name": "stdout",
     "output_type": "stream",
     "text": [
      "Moviepy - Done !\n",
      "Moviepy - video ready /Users/dk/project/rl/lib/episode_recorderrun_0/episode197.mp4\n",
      "Moviepy - Building video /Users/dk/project/rl/lib/episode_recorderrun_0/episode198.mp4.\n",
      "Moviepy - Writing video /Users/dk/project/rl/lib/episode_recorderrun_0/episode198.mp4\n",
      "\n"
     ]
    },
    {
     "name": "stderr",
     "output_type": "stream",
     "text": [
      "                                                               \r"
     ]
    },
    {
     "name": "stdout",
     "output_type": "stream",
     "text": [
      "Moviepy - Done !\n",
      "Moviepy - video ready /Users/dk/project/rl/lib/episode_recorderrun_0/episode198.mp4\n",
      "episode  200 / 300\n",
      "Moviepy - Building video /Users/dk/project/rl/lib/episode_recorderrun_0/episode199.mp4.\n",
      "Moviepy - Writing video /Users/dk/project/rl/lib/episode_recorderrun_0/episode199.mp4\n",
      "\n"
     ]
    },
    {
     "name": "stderr",
     "output_type": "stream",
     "text": [
      "                                                               \r"
     ]
    },
    {
     "name": "stdout",
     "output_type": "stream",
     "text": [
      "Moviepy - Done !\n",
      "Moviepy - video ready /Users/dk/project/rl/lib/episode_recorderrun_0/episode199.mp4\n",
      "Moviepy - Building video /Users/dk/project/rl/lib/episode_recorderrun_0/episode200.mp4.\n",
      "Moviepy - Writing video /Users/dk/project/rl/lib/episode_recorderrun_0/episode200.mp4\n",
      "\n"
     ]
    },
    {
     "name": "stderr",
     "output_type": "stream",
     "text": [
      "                                                               \r"
     ]
    },
    {
     "name": "stdout",
     "output_type": "stream",
     "text": [
      "Moviepy - Done !\n",
      "Moviepy - video ready /Users/dk/project/rl/lib/episode_recorderrun_0/episode200.mp4\n",
      "Moviepy - Building video /Users/dk/project/rl/lib/episode_recorderrun_0/episode201.mp4.\n",
      "Moviepy - Writing video /Users/dk/project/rl/lib/episode_recorderrun_0/episode201.mp4\n",
      "\n"
     ]
    },
    {
     "name": "stderr",
     "output_type": "stream",
     "text": [
      "                                                               \r"
     ]
    },
    {
     "name": "stdout",
     "output_type": "stream",
     "text": [
      "Moviepy - Done !\n",
      "Moviepy - video ready /Users/dk/project/rl/lib/episode_recorderrun_0/episode201.mp4\n",
      "Moviepy - Building video /Users/dk/project/rl/lib/episode_recorderrun_0/episode202.mp4.\n",
      "Moviepy - Writing video /Users/dk/project/rl/lib/episode_recorderrun_0/episode202.mp4\n",
      "\n"
     ]
    },
    {
     "name": "stderr",
     "output_type": "stream",
     "text": [
      "                                                               \r"
     ]
    },
    {
     "name": "stdout",
     "output_type": "stream",
     "text": [
      "Moviepy - Done !\n",
      "Moviepy - video ready /Users/dk/project/rl/lib/episode_recorderrun_0/episode202.mp4\n",
      "Moviepy - Building video /Users/dk/project/rl/lib/episode_recorderrun_0/episode203.mp4.\n",
      "Moviepy - Writing video /Users/dk/project/rl/lib/episode_recorderrun_0/episode203.mp4\n",
      "\n"
     ]
    },
    {
     "name": "stderr",
     "output_type": "stream",
     "text": [
      "                                                               \r"
     ]
    },
    {
     "name": "stdout",
     "output_type": "stream",
     "text": [
      "Moviepy - Done !\n",
      "Moviepy - video ready /Users/dk/project/rl/lib/episode_recorderrun_0/episode203.mp4\n",
      "Moviepy - Building video /Users/dk/project/rl/lib/episode_recorderrun_0/episode204.mp4.\n",
      "Moviepy - Writing video /Users/dk/project/rl/lib/episode_recorderrun_0/episode204.mp4\n",
      "\n"
     ]
    },
    {
     "name": "stderr",
     "output_type": "stream",
     "text": [
      "                                                               \r"
     ]
    },
    {
     "name": "stdout",
     "output_type": "stream",
     "text": [
      "Moviepy - Done !\n",
      "Moviepy - video ready /Users/dk/project/rl/lib/episode_recorderrun_0/episode204.mp4\n",
      "Moviepy - Building video /Users/dk/project/rl/lib/episode_recorderrun_0/episode205.mp4.\n",
      "Moviepy - Writing video /Users/dk/project/rl/lib/episode_recorderrun_0/episode205.mp4\n",
      "\n"
     ]
    },
    {
     "name": "stderr",
     "output_type": "stream",
     "text": [
      "                                                               \r"
     ]
    },
    {
     "name": "stdout",
     "output_type": "stream",
     "text": [
      "Moviepy - Done !\n",
      "Moviepy - video ready /Users/dk/project/rl/lib/episode_recorderrun_0/episode205.mp4\n",
      "Moviepy - Building video /Users/dk/project/rl/lib/episode_recorderrun_0/episode206.mp4.\n",
      "Moviepy - Writing video /Users/dk/project/rl/lib/episode_recorderrun_0/episode206.mp4\n",
      "\n"
     ]
    },
    {
     "name": "stderr",
     "output_type": "stream",
     "text": [
      "                                                               \r"
     ]
    },
    {
     "name": "stdout",
     "output_type": "stream",
     "text": [
      "Moviepy - Done !\n",
      "Moviepy - video ready /Users/dk/project/rl/lib/episode_recorderrun_0/episode206.mp4\n",
      "Moviepy - Building video /Users/dk/project/rl/lib/episode_recorderrun_0/episode207.mp4.\n",
      "Moviepy - Writing video /Users/dk/project/rl/lib/episode_recorderrun_0/episode207.mp4\n",
      "\n"
     ]
    },
    {
     "name": "stderr",
     "output_type": "stream",
     "text": [
      "                                                               \r"
     ]
    },
    {
     "name": "stdout",
     "output_type": "stream",
     "text": [
      "Moviepy - Done !\n",
      "Moviepy - video ready /Users/dk/project/rl/lib/episode_recorderrun_0/episode207.mp4\n",
      "Moviepy - Building video /Users/dk/project/rl/lib/episode_recorderrun_0/episode208.mp4.\n",
      "Moviepy - Writing video /Users/dk/project/rl/lib/episode_recorderrun_0/episode208.mp4\n",
      "\n"
     ]
    },
    {
     "name": "stderr",
     "output_type": "stream",
     "text": [
      "                                                               \r"
     ]
    },
    {
     "name": "stdout",
     "output_type": "stream",
     "text": [
      "Moviepy - Done !\n",
      "Moviepy - video ready /Users/dk/project/rl/lib/episode_recorderrun_0/episode208.mp4\n",
      "Moviepy - Building video /Users/dk/project/rl/lib/episode_recorderrun_0/episode209.mp4.\n",
      "Moviepy - Writing video /Users/dk/project/rl/lib/episode_recorderrun_0/episode209.mp4\n",
      "\n"
     ]
    },
    {
     "name": "stderr",
     "output_type": "stream",
     "text": [
      "                                                               \r"
     ]
    },
    {
     "name": "stdout",
     "output_type": "stream",
     "text": [
      "Moviepy - Done !\n",
      "Moviepy - video ready /Users/dk/project/rl/lib/episode_recorderrun_0/episode209.mp4\n",
      "Moviepy - Building video /Users/dk/project/rl/lib/episode_recorderrun_0/episode210.mp4.\n",
      "Moviepy - Writing video /Users/dk/project/rl/lib/episode_recorderrun_0/episode210.mp4\n",
      "\n"
     ]
    },
    {
     "name": "stderr",
     "output_type": "stream",
     "text": [
      "                                                               \r"
     ]
    },
    {
     "name": "stdout",
     "output_type": "stream",
     "text": [
      "Moviepy - Done !\n",
      "Moviepy - video ready /Users/dk/project/rl/lib/episode_recorderrun_0/episode210.mp4\n",
      "Moviepy - Building video /Users/dk/project/rl/lib/episode_recorderrun_0/episode211.mp4.\n",
      "Moviepy - Writing video /Users/dk/project/rl/lib/episode_recorderrun_0/episode211.mp4\n",
      "\n"
     ]
    },
    {
     "name": "stderr",
     "output_type": "stream",
     "text": [
      "                                                               \r"
     ]
    },
    {
     "name": "stdout",
     "output_type": "stream",
     "text": [
      "Moviepy - Done !\n",
      "Moviepy - video ready /Users/dk/project/rl/lib/episode_recorderrun_0/episode211.mp4\n",
      "Moviepy - Building video /Users/dk/project/rl/lib/episode_recorderrun_0/episode212.mp4.\n",
      "Moviepy - Writing video /Users/dk/project/rl/lib/episode_recorderrun_0/episode212.mp4\n",
      "\n"
     ]
    },
    {
     "name": "stderr",
     "output_type": "stream",
     "text": [
      "                                                               \r"
     ]
    },
    {
     "name": "stdout",
     "output_type": "stream",
     "text": [
      "Moviepy - Done !\n",
      "Moviepy - video ready /Users/dk/project/rl/lib/episode_recorderrun_0/episode212.mp4\n",
      "Moviepy - Building video /Users/dk/project/rl/lib/episode_recorderrun_0/episode213.mp4.\n",
      "Moviepy - Writing video /Users/dk/project/rl/lib/episode_recorderrun_0/episode213.mp4\n",
      "\n"
     ]
    },
    {
     "name": "stderr",
     "output_type": "stream",
     "text": [
      "                                                               \r"
     ]
    },
    {
     "name": "stdout",
     "output_type": "stream",
     "text": [
      "Moviepy - Done !\n",
      "Moviepy - video ready /Users/dk/project/rl/lib/episode_recorderrun_0/episode213.mp4\n",
      "Moviepy - Building video /Users/dk/project/rl/lib/episode_recorderrun_0/episode214.mp4.\n",
      "Moviepy - Writing video /Users/dk/project/rl/lib/episode_recorderrun_0/episode214.mp4\n",
      "\n"
     ]
    },
    {
     "name": "stderr",
     "output_type": "stream",
     "text": [
      "                                                               \r"
     ]
    },
    {
     "name": "stdout",
     "output_type": "stream",
     "text": [
      "Moviepy - Done !\n",
      "Moviepy - video ready /Users/dk/project/rl/lib/episode_recorderrun_0/episode214.mp4\n",
      "Moviepy - Building video /Users/dk/project/rl/lib/episode_recorderrun_0/episode215.mp4.\n",
      "Moviepy - Writing video /Users/dk/project/rl/lib/episode_recorderrun_0/episode215.mp4\n",
      "\n"
     ]
    },
    {
     "name": "stderr",
     "output_type": "stream",
     "text": [
      "                                                               \r"
     ]
    },
    {
     "name": "stdout",
     "output_type": "stream",
     "text": [
      "Moviepy - Done !\n",
      "Moviepy - video ready /Users/dk/project/rl/lib/episode_recorderrun_0/episode215.mp4\n",
      "Moviepy - Building video /Users/dk/project/rl/lib/episode_recorderrun_0/episode216.mp4.\n",
      "Moviepy - Writing video /Users/dk/project/rl/lib/episode_recorderrun_0/episode216.mp4\n",
      "\n"
     ]
    },
    {
     "name": "stderr",
     "output_type": "stream",
     "text": [
      "                                                               \r"
     ]
    },
    {
     "name": "stdout",
     "output_type": "stream",
     "text": [
      "Moviepy - Done !\n",
      "Moviepy - video ready /Users/dk/project/rl/lib/episode_recorderrun_0/episode216.mp4\n",
      "Moviepy - Building video /Users/dk/project/rl/lib/episode_recorderrun_0/episode217.mp4.\n",
      "Moviepy - Writing video /Users/dk/project/rl/lib/episode_recorderrun_0/episode217.mp4\n",
      "\n"
     ]
    },
    {
     "name": "stderr",
     "output_type": "stream",
     "text": [
      "                                                               \r"
     ]
    },
    {
     "name": "stdout",
     "output_type": "stream",
     "text": [
      "Moviepy - Done !\n",
      "Moviepy - video ready /Users/dk/project/rl/lib/episode_recorderrun_0/episode217.mp4\n",
      "Moviepy - Building video /Users/dk/project/rl/lib/episode_recorderrun_0/episode218.mp4.\n",
      "Moviepy - Writing video /Users/dk/project/rl/lib/episode_recorderrun_0/episode218.mp4\n",
      "\n"
     ]
    },
    {
     "name": "stderr",
     "output_type": "stream",
     "text": [
      "                                                               \r"
     ]
    },
    {
     "name": "stdout",
     "output_type": "stream",
     "text": [
      "Moviepy - Done !\n",
      "Moviepy - video ready /Users/dk/project/rl/lib/episode_recorderrun_0/episode218.mp4\n",
      "Moviepy - Building video /Users/dk/project/rl/lib/episode_recorderrun_0/episode219.mp4.\n",
      "Moviepy - Writing video /Users/dk/project/rl/lib/episode_recorderrun_0/episode219.mp4\n",
      "\n"
     ]
    },
    {
     "name": "stderr",
     "output_type": "stream",
     "text": [
      "                                                               \r"
     ]
    },
    {
     "name": "stdout",
     "output_type": "stream",
     "text": [
      "Moviepy - Done !\n",
      "Moviepy - video ready /Users/dk/project/rl/lib/episode_recorderrun_0/episode219.mp4\n",
      "Moviepy - Building video /Users/dk/project/rl/lib/episode_recorderrun_0/episode220.mp4.\n",
      "Moviepy - Writing video /Users/dk/project/rl/lib/episode_recorderrun_0/episode220.mp4\n",
      "\n"
     ]
    },
    {
     "name": "stderr",
     "output_type": "stream",
     "text": [
      "                                                               \r"
     ]
    },
    {
     "name": "stdout",
     "output_type": "stream",
     "text": [
      "Moviepy - Done !\n",
      "Moviepy - video ready /Users/dk/project/rl/lib/episode_recorderrun_0/episode220.mp4\n",
      "Moviepy - Building video /Users/dk/project/rl/lib/episode_recorderrun_0/episode221.mp4.\n",
      "Moviepy - Writing video /Users/dk/project/rl/lib/episode_recorderrun_0/episode221.mp4\n",
      "\n"
     ]
    },
    {
     "name": "stderr",
     "output_type": "stream",
     "text": [
      "                                                               \r"
     ]
    },
    {
     "name": "stdout",
     "output_type": "stream",
     "text": [
      "Moviepy - Done !\n",
      "Moviepy - video ready /Users/dk/project/rl/lib/episode_recorderrun_0/episode221.mp4\n",
      "Moviepy - Building video /Users/dk/project/rl/lib/episode_recorderrun_0/episode222.mp4.\n",
      "Moviepy - Writing video /Users/dk/project/rl/lib/episode_recorderrun_0/episode222.mp4\n",
      "\n"
     ]
    },
    {
     "name": "stderr",
     "output_type": "stream",
     "text": [
      "                                                               \r"
     ]
    },
    {
     "name": "stdout",
     "output_type": "stream",
     "text": [
      "Moviepy - Done !\n",
      "Moviepy - video ready /Users/dk/project/rl/lib/episode_recorderrun_0/episode222.mp4\n",
      "Moviepy - Building video /Users/dk/project/rl/lib/episode_recorderrun_0/episode223.mp4.\n",
      "Moviepy - Writing video /Users/dk/project/rl/lib/episode_recorderrun_0/episode223.mp4\n",
      "\n"
     ]
    },
    {
     "name": "stderr",
     "output_type": "stream",
     "text": [
      "                                                               \r"
     ]
    },
    {
     "name": "stdout",
     "output_type": "stream",
     "text": [
      "Moviepy - Done !\n",
      "Moviepy - video ready /Users/dk/project/rl/lib/episode_recorderrun_0/episode223.mp4\n",
      "Moviepy - Building video /Users/dk/project/rl/lib/episode_recorderrun_0/episode224.mp4.\n",
      "Moviepy - Writing video /Users/dk/project/rl/lib/episode_recorderrun_0/episode224.mp4\n",
      "\n"
     ]
    },
    {
     "name": "stderr",
     "output_type": "stream",
     "text": [
      "                                                               \r"
     ]
    },
    {
     "name": "stdout",
     "output_type": "stream",
     "text": [
      "Moviepy - Done !\n",
      "Moviepy - video ready /Users/dk/project/rl/lib/episode_recorderrun_0/episode224.mp4\n",
      "Moviepy - Building video /Users/dk/project/rl/lib/episode_recorderrun_0/episode225.mp4.\n",
      "Moviepy - Writing video /Users/dk/project/rl/lib/episode_recorderrun_0/episode225.mp4\n",
      "\n"
     ]
    },
    {
     "name": "stderr",
     "output_type": "stream",
     "text": [
      "                                                               \r"
     ]
    },
    {
     "name": "stdout",
     "output_type": "stream",
     "text": [
      "Moviepy - Done !\n",
      "Moviepy - video ready /Users/dk/project/rl/lib/episode_recorderrun_0/episode225.mp4\n",
      "Moviepy - Building video /Users/dk/project/rl/lib/episode_recorderrun_0/episode226.mp4.\n",
      "Moviepy - Writing video /Users/dk/project/rl/lib/episode_recorderrun_0/episode226.mp4\n",
      "\n"
     ]
    },
    {
     "name": "stderr",
     "output_type": "stream",
     "text": [
      "                                                               \r"
     ]
    },
    {
     "name": "stdout",
     "output_type": "stream",
     "text": [
      "Moviepy - Done !\n",
      "Moviepy - video ready /Users/dk/project/rl/lib/episode_recorderrun_0/episode226.mp4\n",
      "Moviepy - Building video /Users/dk/project/rl/lib/episode_recorderrun_0/episode227.mp4.\n",
      "Moviepy - Writing video /Users/dk/project/rl/lib/episode_recorderrun_0/episode227.mp4\n",
      "\n"
     ]
    },
    {
     "name": "stderr",
     "output_type": "stream",
     "text": [
      "                                                               \r"
     ]
    },
    {
     "name": "stdout",
     "output_type": "stream",
     "text": [
      "Moviepy - Done !\n",
      "Moviepy - video ready /Users/dk/project/rl/lib/episode_recorderrun_0/episode227.mp4\n",
      "Moviepy - Building video /Users/dk/project/rl/lib/episode_recorderrun_0/episode228.mp4.\n",
      "Moviepy - Writing video /Users/dk/project/rl/lib/episode_recorderrun_0/episode228.mp4\n",
      "\n"
     ]
    },
    {
     "name": "stderr",
     "output_type": "stream",
     "text": [
      "                                                               \r"
     ]
    },
    {
     "name": "stdout",
     "output_type": "stream",
     "text": [
      "Moviepy - Done !\n",
      "Moviepy - video ready /Users/dk/project/rl/lib/episode_recorderrun_0/episode228.mp4\n",
      "Moviepy - Building video /Users/dk/project/rl/lib/episode_recorderrun_0/episode229.mp4.\n",
      "Moviepy - Writing video /Users/dk/project/rl/lib/episode_recorderrun_0/episode229.mp4\n",
      "\n"
     ]
    },
    {
     "name": "stderr",
     "output_type": "stream",
     "text": [
      "                                                               \r"
     ]
    },
    {
     "name": "stdout",
     "output_type": "stream",
     "text": [
      "Moviepy - Done !\n",
      "Moviepy - video ready /Users/dk/project/rl/lib/episode_recorderrun_0/episode229.mp4\n",
      "Moviepy - Building video /Users/dk/project/rl/lib/episode_recorderrun_0/episode230.mp4.\n",
      "Moviepy - Writing video /Users/dk/project/rl/lib/episode_recorderrun_0/episode230.mp4\n",
      "\n"
     ]
    },
    {
     "name": "stderr",
     "output_type": "stream",
     "text": [
      "                                                               \r"
     ]
    },
    {
     "name": "stdout",
     "output_type": "stream",
     "text": [
      "Moviepy - Done !\n",
      "Moviepy - video ready /Users/dk/project/rl/lib/episode_recorderrun_0/episode230.mp4\n",
      "Moviepy - Building video /Users/dk/project/rl/lib/episode_recorderrun_0/episode231.mp4.\n",
      "Moviepy - Writing video /Users/dk/project/rl/lib/episode_recorderrun_0/episode231.mp4\n",
      "\n"
     ]
    },
    {
     "name": "stderr",
     "output_type": "stream",
     "text": [
      "                                                               \r"
     ]
    },
    {
     "name": "stdout",
     "output_type": "stream",
     "text": [
      "Moviepy - Done !\n",
      "Moviepy - video ready /Users/dk/project/rl/lib/episode_recorderrun_0/episode231.mp4\n",
      "Moviepy - Building video /Users/dk/project/rl/lib/episode_recorderrun_0/episode232.mp4.\n",
      "Moviepy - Writing video /Users/dk/project/rl/lib/episode_recorderrun_0/episode232.mp4\n",
      "\n"
     ]
    },
    {
     "name": "stderr",
     "output_type": "stream",
     "text": [
      "                                                               \r"
     ]
    },
    {
     "name": "stdout",
     "output_type": "stream",
     "text": [
      "Moviepy - Done !\n",
      "Moviepy - video ready /Users/dk/project/rl/lib/episode_recorderrun_0/episode232.mp4\n",
      "Moviepy - Building video /Users/dk/project/rl/lib/episode_recorderrun_0/episode233.mp4.\n",
      "Moviepy - Writing video /Users/dk/project/rl/lib/episode_recorderrun_0/episode233.mp4\n",
      "\n"
     ]
    },
    {
     "name": "stderr",
     "output_type": "stream",
     "text": [
      "                                                               \r"
     ]
    },
    {
     "name": "stdout",
     "output_type": "stream",
     "text": [
      "Moviepy - Done !\n",
      "Moviepy - video ready /Users/dk/project/rl/lib/episode_recorderrun_0/episode233.mp4\n",
      "Moviepy - Building video /Users/dk/project/rl/lib/episode_recorderrun_0/episode234.mp4.\n",
      "Moviepy - Writing video /Users/dk/project/rl/lib/episode_recorderrun_0/episode234.mp4\n",
      "\n"
     ]
    },
    {
     "name": "stderr",
     "output_type": "stream",
     "text": [
      "                                                               \r"
     ]
    },
    {
     "name": "stdout",
     "output_type": "stream",
     "text": [
      "Moviepy - Done !\n",
      "Moviepy - video ready /Users/dk/project/rl/lib/episode_recorderrun_0/episode234.mp4\n",
      "Moviepy - Building video /Users/dk/project/rl/lib/episode_recorderrun_0/episode235.mp4.\n",
      "Moviepy - Writing video /Users/dk/project/rl/lib/episode_recorderrun_0/episode235.mp4\n",
      "\n"
     ]
    },
    {
     "name": "stderr",
     "output_type": "stream",
     "text": [
      "                                                               \r"
     ]
    },
    {
     "name": "stdout",
     "output_type": "stream",
     "text": [
      "Moviepy - Done !\n",
      "Moviepy - video ready /Users/dk/project/rl/lib/episode_recorderrun_0/episode235.mp4\n",
      "Unexpected exception formatting exception. Falling back to standard exception\n"
     ]
    },
    {
     "name": "stderr",
     "output_type": "stream",
     "text": [
      "Traceback (most recent call last):\n",
      "  File \"/Users/dk/project/rl/lab3_venv/lib/python3.10/site-packages/IPython/core/interactiveshell.py\", line 3433, in run_code\n",
      "    exec(code_obj, self.user_global_ns, self.user_ns)\n",
      "  File \"/var/folders/5s/7kml8ttj3pl5l53bkpy_bwlm0000gn/T/ipykernel_66474/3567455892.py\", line 1, in <module>\n",
      "    run = nets.train_DQN('DQN', env_name='CartPole', n_runs=1, starting_eps=1., network_layers=[4,32,2],\n",
      "  File \"/Users/dk/project/rl/lib/nets.py\", line 54, in train_DQN\n",
      "    update_policy(memory, policy_net, target_net, optimizer, type, batch_size)\n",
      "  File \"/Users/dk/project/rl/lib/nets_utils.py\", line 107, in update_policy\n",
      "  File \"/Users/dk/project/rl/lib/general_utils.py\", line 80, in sample\n",
      "    return random.sample(self.buffer, batch_size)\n",
      "  File \"/usr/local/Cellar/python@3.10/3.10.8/Frameworks/Python.framework/Versions/3.10/lib/python3.10/random.py\", line 503, in sample\n",
      "    result[i] = population[j]\n",
      "KeyboardInterrupt\n",
      "\n",
      "During handling of the above exception, another exception occurred:\n",
      "\n",
      "Traceback (most recent call last):\n",
      "  File \"/Users/dk/project/rl/lab3_venv/lib/python3.10/site-packages/IPython/core/interactiveshell.py\", line 2052, in showtraceback\n",
      "    stb = self.InteractiveTB.structured_traceback(\n",
      "  File \"/Users/dk/project/rl/lab3_venv/lib/python3.10/site-packages/IPython/core/ultratb.py\", line 1112, in structured_traceback\n",
      "    return FormattedTB.structured_traceback(\n",
      "  File \"/Users/dk/project/rl/lab3_venv/lib/python3.10/site-packages/IPython/core/ultratb.py\", line 1006, in structured_traceback\n",
      "    return VerboseTB.structured_traceback(\n",
      "  File \"/Users/dk/project/rl/lab3_venv/lib/python3.10/site-packages/IPython/core/ultratb.py\", line 859, in structured_traceback\n",
      "    formatted_exception = self.format_exception_as_a_whole(etype, evalue, etb, number_of_lines_of_context,\n",
      "  File \"/Users/dk/project/rl/lab3_venv/lib/python3.10/site-packages/IPython/core/ultratb.py\", line 812, in format_exception_as_a_whole\n",
      "    frames.append(self.format_record(r))\n",
      "  File \"/Users/dk/project/rl/lab3_venv/lib/python3.10/site-packages/IPython/core/ultratb.py\", line 730, in format_record\n",
      "    result += ''.join(_format_traceback_lines(frame_info.lines, Colors, self.has_colors, lvals))\n",
      "  File \"/Users/dk/project/rl/lab3_venv/lib/python3.10/site-packages/stack_data/utils.py\", line 144, in cached_property_wrapper\n",
      "    value = obj.__dict__[self.func.__name__] = self.func(obj)\n",
      "  File \"/Users/dk/project/rl/lab3_venv/lib/python3.10/site-packages/stack_data/core.py\", line 720, in lines\n",
      "    pieces = self.included_pieces\n",
      "  File \"/Users/dk/project/rl/lab3_venv/lib/python3.10/site-packages/stack_data/utils.py\", line 144, in cached_property_wrapper\n",
      "    value = obj.__dict__[self.func.__name__] = self.func(obj)\n",
      "  File \"/Users/dk/project/rl/lab3_venv/lib/python3.10/site-packages/stack_data/core.py\", line 667, in included_pieces\n",
      "    pos = scope_pieces.index(self.executing_piece)\n",
      "  File \"/Users/dk/project/rl/lab3_venv/lib/python3.10/site-packages/stack_data/utils.py\", line 144, in cached_property_wrapper\n",
      "    value = obj.__dict__[self.func.__name__] = self.func(obj)\n",
      "  File \"/Users/dk/project/rl/lab3_venv/lib/python3.10/site-packages/stack_data/core.py\", line 646, in executing_piece\n",
      "    return only(\n",
      "  File \"/Users/dk/project/rl/lab3_venv/lib/python3.10/site-packages/executing/executing.py\", line 190, in only\n",
      "    raise NotOneValueFound('Expected one value, found 0')\n",
      "executing.executing.NotOneValueFound: Expected one value, found 0\n"
     ]
    }
   ],
   "source": [
    "run = nets.train_DQN('DQN', env_name='CartPole', n_runs=1, starting_eps=1., network_layers=[4,32,2], \n",
    "                        episode_print_thresh=100, n_episodes=300, buffer_size=100000, batch_size=64, \n",
    "                        update_when=1, learning_rate=0.01, decay=0.99, max_episode_steps=1000, record=True)"
   ]
  },
  {
   "cell_type": "code",
   "execution_count": null,
   "metadata": {},
   "outputs": [],
   "source": [
    "accessory.print_results([run], n_episodes=300, ylabel='return', xlabel='episode', title='title')"
   ]
  },
  {
   "cell_type": "code",
   "execution_count": null,
   "metadata": {},
   "outputs": [],
   "source": []
  }
 ],
 "metadata": {
  "kernelspec": {
   "display_name": "lab3_venv",
   "language": "python",
   "name": "python3"
  },
  "language_info": {
   "codemirror_mode": {
    "name": "ipython",
    "version": 3
   },
   "file_extension": ".py",
   "mimetype": "text/x-python",
   "name": "python",
   "nbconvert_exporter": "python",
   "pygments_lexer": "ipython3",
   "version": "3.10.8"
  },
  "orig_nbformat": 4,
  "vscode": {
   "interpreter": {
    "hash": "6db61543b22314f774e65a0ba334c37f2a83cf724013db55a19c061cb3464ee2"
   }
  }
 },
 "nbformat": 4,
 "nbformat_minor": 2
}
