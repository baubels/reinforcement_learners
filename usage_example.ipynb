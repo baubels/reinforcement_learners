{
 "cells": [
  {
   "cell_type": "code",
   "execution_count": 1,
   "metadata": {},
   "outputs": [
    {
     "name": "stderr",
     "output_type": "stream",
     "text": [
      "/Users/dk/project/rl/lab3_venv/lib/python3.10/site-packages/tqdm/auto.py:22: TqdmWarning: IProgress not found. Please update jupyter and ipywidgets. See https://ipywidgets.readthedocs.io/en/stable/user_install.html\n",
      "  from .autonotebook import tqdm as notebook_tqdm\n"
     ]
    }
   ],
   "source": [
    "import general_utils, nets, nets_utils, accessory"
   ]
  },
  {
   "cell_type": "code",
   "execution_count": null,
   "metadata": {},
   "outputs": [],
   "source": [
    "run, trained_net = nets.train_DQN('DQN', env_name='CartPoleEnv', n_runs=1, starting_eps=1., network_layers=[4,32,2],\n",
    "                                   episode_print_thresh=100, n_episodes=100, buffer_size=100000, batch_size=64,\n",
    "                                   update_when=1, learning_rate=0.01, decay=0.99, max_episode_steps=1000, record=True)"
   ]
  },
  {
   "cell_type": "code",
   "execution_count": null,
   "metadata": {},
   "outputs": [],
   "source": [
    "accessory.print_results(run, n_episodes=100)"
   ]
  },
  {
   "cell_type": "code",
   "execution_count": null,
   "metadata": {},
   "outputs": [],
   "source": [
    "run_DDQN, trained_net_DDQN = nets.train_DQN('DDQN', env_name='CartPole', n_runs=1, starting_eps=1., network_layers=[4,32,2],\n",
    "                                            episode_print_thresh=100, n_episodes=100, buffer_size=100000, batch_size=64,\n",
    "                                            update_when=1, learning_rate=0.01, decay=0.99, max_episode_steps=1000, record=True)"
   ]
  },
  {
   "cell_type": "code",
   "execution_count": null,
   "metadata": {},
   "outputs": [],
   "source": [
    "accessory.print_results(run_DDQN, n_episodes=100)"
   ]
  },
  {
   "cell_type": "code",
   "execution_count": null,
   "metadata": {},
   "outputs": [],
   "source": [
    "run, trained_net = nets.train_DQN('DQN', env_name='MountainCarEnv', n_runs=1, starting_eps=1., network_layers=[2,32,3],\n",
    "                                  episode_print_thresh=1, n_episodes=100, buffer_size=100000, batch_size=64,            \n",
    "                                  update_when=1, learning_rate=0.01, decay=0.99, max_episode_steps=10, record=True)    "
   ]
  },
  {
   "cell_type": "code",
   "execution_count": 4,
   "metadata": {},
   "outputs": [
    {
     "name": "stdout",
     "output_type": "stream",
     "text": [
      "TRAINING!!! A REINFORCE agent on the CartPoleEnv environment over 10 runs each with 1000 episodes.\n",
      "Episodes are generated with an on-policy algorithm.\n",
      "The policy net is feedforward with layer widths: [4, 32, 2].\n",
      "\n",
      "Backpropogation is done with SGD over each episodes.\n",
      "episode  150 / 1000\n",
      "episode  300 / 1000\n",
      "episode  450 / 1000\n",
      "episode  600 / 1000\n",
      "episode  750 / 1000\n",
      "episode  900 / 1000\n",
      "Ending run 1 of 10 with run time: 10.31 and average end episode length: 22.8\n",
      "episode  150 / 1000\n",
      "episode  300 / 1000\n",
      "episode  450 / 1000\n",
      "episode  600 / 1000\n"
     ]
    }
   ],
   "source": [
    "runs, net = nets.train_REINFORCE(env_name='CartPoleEnv', n_runs=10, network_layers=[4,32,2],\n",
    "                                 update_when=1, learning_rate=0.01, record=False,\n",
    "                                 max_episode_steps=500, discount=0.7, n_episodes=600)"
   ]
  },
  {
   "cell_type": "code",
   "execution_count": null,
   "metadata": {},
   "outputs": [],
   "source": [
    "accessory.print_results(runs, n_episodes=1000)"
   ]
  },
  {
   "cell_type": "code",
   "execution_count": null,
   "metadata": {},
   "outputs": [],
   "source": []
  }
 ],
 "metadata": {
  "kernelspec": {
   "display_name": "Python 3",
   "language": "python",
   "name": "python3"
  },
  "language_info": {
   "codemirror_mode": {
    "name": "ipython",
    "version": 3
   },
   "file_extension": ".py",
   "mimetype": "text/x-python",
   "name": "python",
   "nbconvert_exporter": "python",
   "pygments_lexer": "ipython3",
   "version": "3.10.8"
  },
  "vscode": {
   "interpreter": {
    "hash": "6db61543b22314f774e65a0ba334c37f2a83cf724013db55a19c061cb3464ee2"
   }
  }
 },
 "nbformat": 4,
 "nbformat_minor": 4
}
